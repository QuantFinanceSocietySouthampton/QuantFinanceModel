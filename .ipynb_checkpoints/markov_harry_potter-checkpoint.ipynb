{
 "cells": [
  {
   "cell_type": "markdown",
   "metadata": {},
   "source": [
    "## Imports"
   ]
  },
  {
   "cell_type": "code",
   "execution_count": 1,
   "metadata": {
    "_cell_guid": "b1076dfc-b9ad-4769-8c92-a6c4dae69d19",
    "_uuid": "8f2839f25d086af736a60e9eeb907d3b93b6e0e5"
   },
   "outputs": [],
   "source": [
    "import re\n",
    "from nltk.tokenize import word_tokenize\n",
    "import random\n",
    "import nltk"
   ]
  },
  {
   "cell_type": "markdown",
   "metadata": {},
   "source": [
    "## Reading The Chamber of Secrets"
   ]
  },
  {
   "cell_type": "code",
   "execution_count": 2,
   "metadata": {},
   "outputs": [
    {
     "name": "stdout",
     "output_type": "stream",
     "text": [
      "number of lines =  3216\n"
     ]
    }
   ],
   "source": [
    "path = \"kaggle/input/harry_potter/02 Harry Potter and the Chamber of Secrets.txt\"\n",
    "\n",
    "def read_story(path):\n",
    "    txt = []\n",
    "\n",
    "    with open(path) as f:\n",
    "        for line in f:\n",
    "            line = line.strip()\n",
    "            if line!='':txt.append(line)\n",
    "    \n",
    "    return txt\n",
    "\n",
    "story = read_story(path)\n",
    "print(\"number of lines = \", len(story))"
   ]
  },
  {
   "cell_type": "markdown",
   "metadata": {},
   "source": [
    "## Cleaning the text"
   ]
  },
  {
   "cell_type": "code",
   "execution_count": 3,
   "metadata": {},
   "outputs": [
    {
     "name": "stdout",
     "output_type": "stream",
     "text": [
      "number of words =  87271\n"
     ]
    }
   ],
   "source": [
    "def clean_txt(txt):\n",
    "    cleaned_txt = []\n",
    "    for line in txt:\n",
    "        line = line.lower()\n",
    "        line = re.sub(r\"[,.\\\"\\'!@#$%^&*(){}?/;`~:<>+=-\\\\]\", \"\", line)\n",
    "        tokens = word_tokenize(line)\n",
    "        words = [word for word in tokens if word.isalpha()]\n",
    "        cleaned_txt += words\n",
    "    return cleaned_txt\n",
    "\n",
    "cleaned_story = clean_txt(story)\n",
    "print(\"number of words = \", len(cleaned_story))"
   ]
  },
  {
   "cell_type": "markdown",
   "metadata": {},
   "source": [
    "## Creating the Markov Model"
   ]
  },
  {
   "cell_type": "code",
   "execution_count": 4,
   "metadata": {},
   "outputs": [],
   "source": [
    "def make_markov_model(cleaned_story, n_gram=2):\n",
    "    markov_model = {}\n",
    "    for i in range(len(cleaned_story)-n_gram-1):\n",
    "        curr_state, next_state = \"\", \"\"\n",
    "        for j in range(n_gram):\n",
    "            curr_state += cleaned_story[i+j] + \" \"\n",
    "            next_state += cleaned_story[i+j+n_gram] + \" \"\n",
    "        curr_state = curr_state[:-1]\n",
    "        next_state = next_state[:-1]\n",
    "        if curr_state not in markov_model:\n",
    "            markov_model[curr_state] = {}\n",
    "            markov_model[curr_state][next_state] = 1\n",
    "        else:\n",
    "            if next_state in markov_model[curr_state]:\n",
    "                markov_model[curr_state][next_state] += 1\n",
    "            else:\n",
    "                markov_model[curr_state][next_state] = 1\n",
    "    \n",
    "    # calculating transition probabilities\n",
    "    for curr_state, transition in markov_model.items():\n",
    "        total = sum(transition.values())\n",
    "        for state, count in transition.items():\n",
    "            markov_model[curr_state][state] = count/total\n",
    "        \n",
    "    return markov_model"
   ]
  },
  {
   "cell_type": "code",
   "execution_count": 5,
   "metadata": {},
   "outputs": [],
   "source": [
    "markov_model = make_markov_model(cleaned_story)"
   ]
  },
  {
   "cell_type": "code",
   "execution_count": 6,
   "metadata": {},
   "outputs": [
    {
     "name": "stdout",
     "output_type": "stream",
     "text": [
      "number of states =  45475\n"
     ]
    }
   ],
   "source": [
    "print(\"number of states = \", len(markov_model.keys()))"
   ]
  },
  {
   "cell_type": "code",
   "execution_count": 7,
   "metadata": {},
   "outputs": [
    {
     "name": "stdout",
     "output_type": "stream",
     "text": [
      "All possible transitions from 'chamber of' state: \n",
      "\n",
      "{'secrets chapter': 0.22807017543859648, 'secrets has': 0.05263157894736842, 'secrets what': 0.017543859649122806, 'secrets said': 0.07017543859649122, 'you all': 0.017543859649122806, 'secrets the': 0.017543859649122806, 'secrets so': 0.017543859649122806, 'secrets unleash': 0.017543859649122806, 'secrets ron': 0.017543859649122806, 'secrets for': 0.05263157894736842, 'secrets is': 0.07017543859649122, 'secrets harry': 0.03508771929824561, 'secrets was': 0.03508771929824561, 'secrets with': 0.017543859649122806, 'secrets his': 0.017543859649122806, 'secrets in': 0.017543859649122806, 'secrets fifty': 0.017543859649122806, 'secrets and': 0.05263157894736842, 'secrets closed': 0.017543859649122806, 'secrets they': 0.017543859649122806, 'secrets all': 0.017543859649122806, 'secrets out': 0.017543859649122806, 'secrets have': 0.017543859649122806, 'secrets he': 0.017543859649122806, 'secrets itself': 0.017543859649122806, 'secrets that': 0.017543859649122806, 'secrets we': 0.017543859649122806, 'secrets she': 0.017543859649122806, 'secrets forsaken': 0.017543859649122806, 'secrets might': 0.017543859649122806, 'secrets professor': 0.017543859649122806}\n"
     ]
    }
   ],
   "source": [
    "print(\"All possible transitions from 'chamber of' state: \\n\")\n",
    "print(markov_model['chamber of'])"
   ]
  },
  {
   "cell_type": "markdown",
   "metadata": {},
   "source": [
    "## Text Generation"
   ]
  },
  {
   "cell_type": "code",
   "execution_count": 8,
   "metadata": {},
   "outputs": [],
   "source": [
    "def generate(markov_model, limit=100, start='chamber of'):\n",
    "    n = 0\n",
    "    curr_state = start\n",
    "    next_state = None\n",
    "    story = \"\"\n",
    "    story += curr_state + \" \"\n",
    "    while n < limit:\n",
    "        next_state = random.choices(list(markov_model[curr_state].keys()),\n",
    "                                    list(markov_model[curr_state].values()))\n",
    "        \n",
    "        curr_state = next_state[0]\n",
    "        story += curr_state + \" \"\n",
    "        n += 1\n",
    "    return story"
   ]
  },
  {
   "cell_type": "code",
   "execution_count": 9,
   "metadata": {},
   "outputs": [
    {
     "name": "stdout",
     "output_type": "stream",
     "text": [
      "1.  harry potter and the letters of his name could be dangerous dangerous said harry quickly and looked over his shoulder at the grass two solitary spiders were hurrying away from the witch \n",
      "2.  harry potter freed dobby said the headmaster you wanted to meet you said harry i can not possibly let you have a pee with her wailing at you don t believe it \n",
      "3.  harry potter must not be here soon snapped aunt petunia whisked away his plate at the ministry i hear said mr malfoy smoothly and spectacularly on the sweeping lawn in front of \n",
      "4.  harry potter the crowd of curious muggles out of the diary in torrents streaming over harry potter survived and the color was draining out of ernie s face worked horribly he knows \n",
      "5.  harry potter and the sorting hat into his ripped bag desperate to tell ron and hermione grabbed him and they were having what looked like an equal harry trying to cheer him \n",
      "6.  harry potter survived and the dark corridor where they stood came the deep grunt of crabbe from his right harry asked george what s the matter said harry through clenched teeth he \n",
      "7.  harry potter will have a potion made that bludger try and kill me not you she added anxiously wouldn t be the first time in his room the rest of the class \n",
      "8.  harry potter the words still gleamed as brightly pink as lockhart s books i think she s trying to learn magic from a kwikspell course i knew at once why demanded ron \n",
      "9.  harry potter like what harry spat fists still clenched well said riddle your whole fascinating history his eyes which had fluttered down onto his bed ron dean and seamus harry told ron \n",
      "10.  harry potter risks his own life for his dirty work not for the first years were now moving around the curtain madam pomfrey was holding a party down in one of his \n",
      "11.  harry potter said malfoy luckily they didn t you harry said lockhart in the way she said morning mum said fred you can go up to tell them all that one of \n",
      "12.  harry potter do you want with him said professor mcgonagall to decide what would happen if he didn t want to name me tom after my father marvolo after my grandfather dipper \n",
      "13.  harry potter very pleased to see you harry paused for a fraction of a swan had appeared piping its weird music to the vaulted ceiling it had a book that you could \n",
      "14.  harry potter stay here now that riddle has vanished from the book on the train and joined the large crowd jostling outside the doors flew open with an angry screech and sped \n",
      "15.  harry potter and sealed before the soup supposing he was being swept into mrs weasley s eyes that that was attacking how many monsters d you know if the person who opened \n",
      "16.  harry potter asks if he can t be silly ron i ve forgotten hedwig harry tore back across the entrance read the whole library before christmas harry told them all about dobby \n",
      "17.  harry potter and his hands were stuck up in front of hogwarts dumbledore always the staffroom door banged shut and stood up what yer doin down here tom riddle stepped closer it \n",
      "18.  harry potter met the dark lord disappear ah mr borgin abandoning mr malfoy s son must be it was hagrid ron hagrid opened the tiniest crack and they were able to climb \n",
      "19.  harry potter was a scene of such confusion that justin might be the one who had the power to release it was was expelled said malfoy can t go now he the \n",
      "20.  harry potter goes back to hogwarts but i know one thing last time the culprit must have known it was most unlike hagrid to criticize a hogwarts teacher and harry looked out \n"
     ]
    }
   ],
   "source": [
    "for i in range(20):\n",
    "    print(str(i+1)+\". \", generate(markov_model, start=\"harry potter\", limit=15))"
   ]
  },
  {
   "cell_type": "code",
   "execution_count": 10,
   "metadata": {},
   "outputs": [
    {
     "name": "stdout",
     "output_type": "stream",
     "text": [
      "1.  hermione granger they however didn t say anything justin had run away from him at lunchtime people here ll believe it i tell you at but i t know sobbed ginny i \n",
      "2.  hermione granger and i thought i was slytherin s heir from everything ginny had told me about you too just last night shouted mrs weasley what are you myrtle said hermione in \n",
      "3.  hermione granger they however didn t matter this way he was rocking backward and forward slightly in her chair exactly like dobby did when he was still alive said riddle s voice \n",
      "4.  hermione granger hermione raised a trembling hand excellent beamed lockhart they will knock you out for the bottom stair it creaks harry whispered back as the teachers bent over justin and nearly \n",
      "5.  hermione granger hermione raised a trembling hand excellent beamed lockhart quite excellent take ten points for gryffindor and so to business he bent down and looked over at harry s mouth fell \n",
      "6.  hermione granger and i m right underneath the first one her skeleton will lie in the end as your parents one of the mad muggle ron s magic and unless harry s \n",
      "7.  hermione granger always top in everything hermione beamed as she threw sausages into the class professor mcgonagall told them that the feast while i m away the door to tell him to \n",
      "8.  hermione granger and i ignored it and he had a glittering golden tail as long as i ve ever met mail s due any minute i think gran s sending a few \n",
      "9.  hermione granger i would buy you a racing broom said his father s definitely evil enough they could petunia roared uncle vernon would manage to gloss the whole kitchen mrs dursley gave \n",
      "10.  hermione granger i would advise you lucius not to go you know harry told ron they waited shivering hardly daring to believe it this could well be the day i make the \n",
      "11.  hermione granger knew my secret ambition is to use the bathroom morning and evening otherwise he was locked and i ll bring the subject and she s gone he said a slight \n",
      "12.  hermione granger standing at the top of the dead basilisk through the bars on harry s wand at lockhart lockhart got to help me with a wave of her own earmuffs as \n",
      "13.  hermione granger and i m right underneath the ghoul in the attic and gnomes all over the school could talk of little else but the attack had also said to ron ron \n",
      "14.  hermione granger knew my secret ambition what in your opinion you filthy little mudblood he spat harry knew by sight but had to move around the paper that harry was to be \n",
      "15.  hermione granger hermione raised a trembling hand excellent beamed lockhart they will knock you out for several long minutes there was silence as harry found himself being presented with the school so \n",
      "16.  hermione granger i would advise you lucius not to go and talk to him he kicked off his feet and positively shouted it can t hurt but it s dull work said \n",
      "17.  hermione granger and i m not pleased to see harry here eh not as gone as you might think harry i don t think i d i d never have meant to \n",
      "18.  hermione granger and i blame myself for giving you that taking hagrid away will not help in the background it was cloudy mum said fred harry s in shock george told harry \n",
      "19.  hermione granger i would have thought you d better open it ron muttered to harry as he closed the door i know said harry i ll ask you to remember that any \n",
      "20.  hermione granger knew my secret ambition what in blazes d you think you could possibly mention to sir patrick how very frightening and impressive you find me of of course i am \n"
     ]
    }
   ],
   "source": [
    "for i in range(20):\n",
    "    print(str(i+1)+\". \", generate(markov_model, start=\"hermione granger\", limit=15))"
   ]
  },
  {
   "cell_type": "code",
   "execution_count": 11,
   "metadata": {},
   "outputs": [
    {
     "name": "stdout",
     "output_type": "stream",
     "text": [
      "1.  ron weasley wasn t there he said too right you will said lockhart i ll go to any lengths for a glimpse of uncle vernon s voice harry had no chance to \n",
      "2.  ron weasley was outside harry s disappointment riddle led him not into a hidden passageway or a secret broom cupboard i regret telling you there s one thing left he shot inside \n",
      "3.  ron weasley was outside harry s mouth and its escape into the darkness their footsteps echoing particularly loudly as crabbe s and george s bedroom were considered perfectly normal what harry found \n",
      "4.  ron weasley and hermione came hurrying up to the she didn t enjoy his shepherd s pie as much as the other balls for colin asked tripping down a couple more feathers \n",
      "5.  ron weasley was outside harry s reach he pulled a heavy book from the direction of adrian pucey was trying hard not to imagine what ginny might look like if they found \n",
      "6.  ron weasley was outside harry s turn for an elbow in the kitchen gave a small elephant emerged very slowly his eyes hermione had forgotten his birthday what wouldn t it he \n",
      "7.  ron weasley and hermione reached for the glass moving in that sort of general direction his voice trailed away hopefully they reached the safety of the class harry like everyone else was \n",
      "8.  ron weasley wasn t caught soon he was a thin man going bald but the little tyke quick in the end they decided that they would not say anything to do except \n",
      "9.  ron weasley was outside harry s ear d you think would it be all right if can i lick your shoes please potter he dropped his hands and through the month of \n",
      "10.  ron weasley wasn t petrified but then she muttered things like don t know whether the malfoys own a said harry well whoever owns him will be an excellent time to do \n",
      "11.  ron weasley was outside harry s ear snape s upper lip was sweating now i mean there s nothing to drink he and ron listened with their mouths open but the whirl \n",
      "12.  ron weasley wasn t granger the bell rang and there until it was right in s inner circle harry had come home what did kill that girl said harry because we ve \n",
      "13.  ron weasley and hermione walked straight past the giant snake skin soon the distant noise of ron straining to shift the rocks they were bowed into the bank s underground tunnels harry \n",
      "14.  ron weasley wasn t pleased now listen here you lot he said opening a door halfway down the stairs mouth dry stomach lurching harry sprang after him trying not to notice the \n",
      "15.  ron weasley wasn t me and she s been dying to harry s window he himself had given them so they wouldn t see another person until they had dragged him all \n",
      "16.  ron weasley was outside harry s way harry took his and saw that it s mine for a bird to pull up there fawkes said harry somewhere there said myrtle blushing silver \n",
      "17.  ron weasley was outside harry s middle and lift him off the floor his head was spinning as though he d just swallowed live snakes doubled up he continued to read frowning \n",
      "18.  ron weasley wasn t pleased harry was relieved to hear the voice again but after making sure that person is expelled harry assured her you re never going back to finish these \n",
      "19.  ron weasley was outside harry s eye and bent his face over his plate without another word nothing more was said until all four of them making suggestions it was dark in \n",
      "20.  ron weasley and hermione led the way forward around a corner and found themselves with him his ginny sobbed i ve writing in it the person who opened the chamber s a \n"
     ]
    }
   ],
   "source": [
    "for i in range(20):\n",
    "    print(str(i+1)+\". \", generate(markov_model, start=\"ron weasley\", limit=15))"
   ]
  },
  {
   "cell_type": "code",
   "execution_count": 12,
   "metadata": {},
   "outputs": [
    {
     "name": "stdout",
     "output_type": "stream",
     "text": [
      "professor dumbledore these boys have flouted the decree for the distant sounds of two dormitory doors closing before seizing the cloak throwing it over malfoy said mr weasley eagerly did it go all right if you need help you know what you were about to do he cleared his throat i then screwed up my remaining strength and performed the immensely complex homorphus he let out a long piercing scream ink spurted out of malfoy the better snarled ron d you know parents there are some wizards like malfoy s family before and they ll be able to climb the next staircase without difficulty d you think it s good and beheaded but oh no it s been happening harry told them about fawkes s timely arrival and about the match being canceled others looked worried harry and the whole of london lay smoky and glittering below them winding its way past a snowcapped mountain it was much too large and slipped down over his eyes widening as though this was obvious was giving you a ghost harry said uncertainly a memory charm and the wand backfired ron explained quietly to dumbledore dear me we do not name it i m still eight inches high with pointed faces and voices so shrill it was hovering inches above malfoy s left of up to the silly little troubles of an girl he went on thoughtfully i suppose he peered more closely at harry that will do he said he hadn t all been quick and clean and my head said myrtle brightly as he tried to discuss his career in wizardry with them not that i m not back in an there was a bunch of grapes next to ron she can fly the car what about my sister said ron hastily wiping the cut over his eye with the angry snake i ll get your trunk you grab anything you d like to help fred and george s bedroom were considered perfectly normal what harry found it very tightly something very hard as they squeezed past a large oak after ten noisy rocky minutes the trees to hagrid when i ve had that first year taking pictures i don t you care i thought i had to track these people with dumbledore gone fear had spread through the trees touchdown said fred oh dear said george frowning and he has to deal with muggle business all the time s flown hasn t got a sword said lockhart dimly haven t all packed their bags by now just to check how well you see ginny told me there was a bang did we boys no sir it was the thinnest of thin lines we were treated like that sir he admitted drying his face on the pillowcase tis a mark of the s going on attracted no doubt by malfoy s son must be it was hagrid frankly i m astounded professor mcgonagall appeared a second later as the old one it s filch he would be getting his comeuppance in a few hours time harry and ron sat stunned as though a tidal wave of fury filch hobbled across to her stall but they were ignoring her and dropping to his knees a tall boy was leaning against the nearest pillar a crimson bird the size of garden sheds oliver wood s been teaching us new moves he mounted his broomstick and kicked at the ground they had barely set foot in under a lot of activity going on inside it they broke into song oh potter you rotter oh what have i missed he didn t think someone else at my house he winked at harry if yeh ask me she raged holding up the corridor together nearly headless nick shook his letter open and pulled out her mirror and rods jaw had dropped and mrs norris back in put hedwig on the pillowcase but mostly sir life has improved for my kind since you triumphed over harry potter to warn him even if he doesn t he d christened fluffy and if the stories are true you haven t already got one more corridor to go what about it we ll make it lockhart was standing on end the lake rose the flower beds his back aching sweat running down his face was suddenly masklike and imagine dumbledore went on bet you loved that didn t seem to be able to won t you harry weren t you send us a letter by owl eating banquets in the restricted section some of the younger students away and you framed him didn t you hear me said ron frowning what if riddle got an award for special services to the school year was over and he was saying gleefully to mrs weasley and ginny were going to miss the train ron whispered i shall make sure that madam pomfrey never asks too many of them were looking at him and for a moment thinking hard about everything aragog had told them where the serpent s mouth but no sound now except for lockhart to hear the lunch bell his brain felt like a large and solid which knocked him into a wide toothy smile i ve just got one question dobby said harry quickly we wanted to shout don t leave me but the car said harry who s behind them half in shadow wearing a most peculiar expression it was patched frayed and dirty the hat its handle glittering with malice here girl take your book it s like here he said coughing i just asked her if she saw anything harry mouthed at hermione what are you okay harry said urgently my wand to his fingertips it felt as though he had meant to do because a game of head hockey and the attacks must ve stopped after hagrid was kicked out otherwise riddle wouldn t have taken hagrid if he d be ashamed that a girl with long \n"
     ]
    }
   ],
   "source": [
    "print(generate(markov_model, start=\"professor dumbledore\", limit=500))"
   ]
  },
  {
   "cell_type": "code",
   "execution_count": null,
   "metadata": {},
   "outputs": [],
   "source": []
  }
 ],
 "metadata": {
  "kaggle": {
   "accelerator": "none",
   "dataSources": [
    {
     "datasetId": 5637,
     "sourceId": 8412,
     "sourceType": "datasetVersion"
    }
   ],
   "dockerImageVersionId": 30035,
   "isGpuEnabled": false,
   "isInternetEnabled": false,
   "language": "python",
   "sourceType": "notebook"
  },
  "kernelspec": {
   "display_name": "Python 3 (ipykernel)",
   "language": "python",
   "name": "python3"
  },
  "language_info": {
   "codemirror_mode": {
    "name": "ipython",
    "version": 3
   },
   "file_extension": ".py",
   "mimetype": "text/x-python",
   "name": "python",
   "nbconvert_exporter": "python",
   "pygments_lexer": "ipython3",
   "version": "3.12.7"
  }
 },
 "nbformat": 4,
 "nbformat_minor": 4
}
