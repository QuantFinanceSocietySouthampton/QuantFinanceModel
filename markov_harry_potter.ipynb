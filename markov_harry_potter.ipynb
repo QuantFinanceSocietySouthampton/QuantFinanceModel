{
 "cells": [
  {
   "cell_type": "markdown",
   "metadata": {},
   "source": [
    "## Imports"
   ]
  },
  {
   "cell_type": "code",
   "execution_count": 1,
   "metadata": {
    "_cell_guid": "b1076dfc-b9ad-4769-8c92-a6c4dae69d19",
    "_uuid": "8f2839f25d086af736a60e9eeb907d3b93b6e0e5"
   },
   "outputs": [],
   "source": [
    "import re\n",
    "from nltk.tokenize import word_tokenize\n",
    "import random"
   ]
  },
  {
   "cell_type": "markdown",
   "metadata": {},
   "source": [
    "## Reading The Chamber of Secrets"
   ]
  },
  {
   "cell_type": "code",
   "execution_count": 2,
   "metadata": {},
   "outputs": [
    {
     "name": "stdout",
     "output_type": "stream",
     "text": [
      "number of lines =  3216\n"
     ]
    }
   ],
   "source": [
    "path = \"kaggle/input/harry_potter/02 Harry Potter and the Chamber of Secrets.txt\"\n",
    "\n",
    "def read_story(path):\n",
    "    txt = []\n",
    "\n",
    "    with open(path) as f:\n",
    "        for line in f:\n",
    "            line = line.strip()\n",
    "            if line!='':txt.append(line)\n",
    "    \n",
    "    return txt\n",
    "\n",
    "story = read_story(path)\n",
    "print(\"number of lines = \", len(story))"
   ]
  },
  {
   "cell_type": "markdown",
   "metadata": {},
   "source": [
    "## Cleaning the text"
   ]
  },
  {
   "cell_type": "code",
   "execution_count": 3,
   "metadata": {},
   "outputs": [
    {
     "name": "stdout",
     "output_type": "stream",
     "text": [
      "number of words =  87271\n"
     ]
    }
   ],
   "source": [
    "def clean_txt(txt):\n",
    "    cleaned_txt = []\n",
    "    for line in txt:\n",
    "        line = line.lower()\n",
    "        line = re.sub(r\"[,.\\\"\\'!@#$%^&*(){}?/;`~:<>+=-\\\\]\", \"\", line)\n",
    "        tokens = word_tokenize(line)\n",
    "        words = [word for word in tokens if word.isalpha()]\n",
    "        cleaned_txt += words\n",
    "    return cleaned_txt\n",
    "\n",
    "cleaned_story = clean_txt(story)\n",
    "print(\"number of words = \", len(cleaned_story))"
   ]
  },
  {
   "cell_type": "markdown",
   "metadata": {},
   "source": [
    "## Creating the Markov Model"
   ]
  },
  {
   "cell_type": "code",
   "execution_count": 4,
   "metadata": {},
   "outputs": [],
   "source": [
    "def make_markov_model(cleaned_stories, n_gram=1):\n",
    "    markov_model = {}\n",
    "    for i in range(len(cleaned_stories)-n_gram-1):\n",
    "        curr_state, next_state = \"\", \"\"\n",
    "        for j in range(n_gram):\n",
    "            curr_state += cleaned_stories[i+j] + \" \"\n",
    "            next_state += cleaned_stories[i+j+n_gram] + \" \"\n",
    "        curr_state = curr_state[:-1]\n",
    "        next_state = next_state[:-1]\n",
    "        if curr_state not in markov_model:\n",
    "            markov_model[curr_state] = {}\n",
    "            markov_model[curr_state][next_state] = 1\n",
    "        else:\n",
    "            if next_state in markov_model[curr_state]:\n",
    "                markov_model[curr_state][next_state] += 1\n",
    "            else:\n",
    "                markov_model[curr_state][next_state] = 1\n",
    "    \n",
    "    # calculating transition probabilities\n",
    "    for curr_state, transition in markov_model.items():\n",
    "        total = sum(transition.values())\n",
    "        for state, count in transition.items():\n",
    "            markov_model[curr_state][state] = count/total\n",
    "        \n",
    "    return markov_model"
   ]
  },
  {
   "cell_type": "code",
   "execution_count": 5,
   "metadata": {},
   "outputs": [],
   "source": [
    "markov_model = make_markov_model(cleaned_story)"
   ]
  },
  {
   "cell_type": "code",
   "execution_count": 6,
   "metadata": {},
   "outputs": [
    {
     "name": "stdout",
     "output_type": "stream",
     "text": [
      "number of states =  6724\n"
     ]
    }
   ],
   "source": [
    "print(\"number of states = \", len(markov_model.keys()))"
   ]
  },
  {
   "cell_type": "code",
   "execution_count": 7,
   "metadata": {},
   "outputs": [
    {
     "name": "stdout",
     "output_type": "stream",
     "text": [
      "All possible transitions from 'the game' state: \n",
      "\n",
      "{'of': 0.5816326530612245, 'has': 0.02040816326530612, 'at': 0.01020408163265306, 'in': 0.01020408163265306, 'many': 0.01020408163265306, 'that': 0.01020408163265306, 'and': 0.030612244897959183, 'can': 0.01020408163265306, 'ah': 0.01020408163265306, 'really': 0.01020408163265306, 'when': 0.01020408163265306, 'was': 0.04081632653061224, 'last': 0.02040816326530612, 'under': 0.01020408163265306, 'is': 0.01020408163265306, 'this': 0.01020408163265306, 's': 0.01020408163265306, 'itself': 0.02040816326530612, 'forever': 0.01020408163265306, 'we': 0.01020408163265306, 'not': 0.02040816326530612, 'towering': 0.01020408163265306, 'floor': 0.01020408163265306, 'again': 0.01020408163265306, 'the': 0.01020408163265306, 'rang': 0.01020408163265306, 'wall': 0.02040816326530612, 'harry': 0.01020408163265306, 'seemed': 0.01020408163265306, 'ginny': 0.01020408163265306, 'entrance': 0.01020408163265306, 'nothing': 0.01020408163265306}\n"
     ]
    }
   ],
   "source": [
    "print(\"All possible transitions from 'the game' state: \\n\")\n",
    "print(markov_model['chamber'])"
   ]
  },
  {
   "cell_type": "markdown",
   "metadata": {},
   "source": [
    "## Text Generation"
   ]
  },
  {
   "cell_type": "code",
   "execution_count": 8,
   "metadata": {},
   "outputs": [],
   "source": [
    "def generate(markov_model, limit=100, start='chamber'):\n",
    "    n = 0\n",
    "    curr_state = start\n",
    "    next_state = None\n",
    "    story = \"\"\n",
    "    story += curr_state + \" \"\n",
    "    while n < limit:\n",
    "        next_state = random.choices(list(markov_model[curr_state].keys()),\n",
    "                                    list(markov_model[curr_state].values()))\n",
    "        \n",
    "        curr_state = next_state[0]\n",
    "        story += curr_state + \" \"\n",
    "        n += 1\n",
    "    return story"
   ]
  },
  {
   "cell_type": "code",
   "execution_count": 9,
   "metadata": {},
   "outputs": [
    {
     "name": "stdout",
     "output_type": "stream",
     "text": [
      "1.  harry s the he ll write to her ginny harry moved closer he was a patched frayed and a lot won t care sir he had \n",
      "2.  harry potter and the window and skinny boy in the lopsided sign of his eyes out of snake fawkes said harry as they lurked in on \n",
      "3.  harry ron for the floor again into a cold eyes straying to to stare and years ago there said mrs norris streaking alongside them back cover \n",
      "4.  harry and fertilizer mingling with a phantom to harry ran back at the vaults were looking at harry pointed purple megaphone all her finger it ll \n",
      "5.  harry had anything offend dobby earnestly dobby plucking at the hogwarts would have you to any cards haven t be sloping lawns losing on his nephew \n",
      "6.  harry s legs around to keep losing your head harry potter and hours in my memory of water a large knobby bald but it s family \n",
      "7.  harry s that snake s lessons took it up the townsfolk with a hint about that had never met hagrid looked nothing s why that said \n",
      "8.  harry and let s a girlfriend drawled malfoy said harry potter the people don t got this yeah i wish you re going to get started \n",
      "9.  harry said colin creevey was a voice back into the dursleys if harry but only saw it of the darkness they filled these days the trunk \n",
      "10.  harry couldn t i m riddle your head inclined their bags and hurried into the pixies bit of thingy but was most popular singing causing such \n",
      "11.  harry was plain that harry could hear the but the mandrake is our common blood soaking his arm to hermione ladled large amount of a loose \n",
      "12.  harry walked straight through the stairs and the chamber the team because of quickstep stop you ve ever met his mind was a patch and worried \n",
      "13.  harry over and dudley s been hard and another check the sight of voice alone past harry potter cackled peeves barked professor flitwick and harry and \n",
      "14.  harry my hands on don t know he hurried nearer however was most advanced on grab for noises a particularly in the hospital wing weasley s \n",
      "15.  harry had never been given at the name is the dursleys they re just the dormitory ron stretched painfully in case blood it said wood and \n",
      "16.  harry percy were growing fainter still alive said fred throwing them safely down a bit of magic and into a door and unrolling his throat importantly \n",
      "17.  harry holding up am a prefect said snape roared wood shouted tuck your own wand ah nearly headless nick examining harry had only were hardly able \n",
      "18.  harry climbed through the train harder to sit she is he was found late a letter open hermione giggled it was emerging next to pm to \n",
      "19.  harry from dumbledore can you you re thinking he said harry of curious look at that the empty harry settled on the serpent was happening he \n",
      "20.  harry grimly he turned around for something clutched in class standing by far more and neither dudley at muggle business was pitched headfirst through a muscle \n"
     ]
    }
   ],
   "source": [
    "for i in range(20):\n",
    "    print(str(i+1)+\". \", generate(markov_model, start=\"harry\", limit=25))"
   ]
  },
  {
   "cell_type": "code",
   "execution_count": 10,
   "metadata": {},
   "outputs": [
    {
     "name": "stdout",
     "output_type": "stream",
     "text": [
      "1.  hermione you ve seen anything at harry did save harry potter had anything harry was probably why not tiny little girl s reward for half as \n",
      "2.  hermione are airplanes said clicking pincers with a vivid hair emerged from under his precious pumpkins had just worried he stared at harry had died said \n",
      "3.  hermione that he scrawled blotting his room and pushed the orchestra ground soaring up to the heir alone gazing at what you made it all of \n",
      "4.  hermione were congratulating each other balls and turning your mind me all seven witches and everyone listen hidden then still plummeting the greatest regret telling him \n",
      "5.  hermione keenly down toward them away in mind dueling club peeves knocking things happen to harry heard about you had never seen marcus flint as though \n",
      "6.  hermione who opened the people down a very stupid little sphere of certain privileges until wow harry who had escaped yet but caught it was shaking \n",
      "7.  hermione looked dreamily at harry had it was innocent as he had heard it all the full steam was no one o his head but see \n",
      "8.  hermione interrupted draco malfoy smirking back at hogwarts would see how you i d been nervousness into the dimly lit with clothes and he could talk \n",
      "9.  hermione had to do said harry stared down to mr malfoy was having their socks up to your orphanage if harry heard the first couple more \n",
      "10.  hermione interrupted in front door for turning around trying to harry potter and harry suggested wanting to his arm was a girls on over her robes \n",
      "11.  hermione was now he was turning red one said nearly there s go back a slab of what to see whether this git said ron grunted \n",
      "12.  hermione have believed it s nose that even the counter before he was on justin had nothing but i warned and backed into the greatest regret \n",
      "13.  hermione folded the dark magic from his schoolmates will the stupid face contorted then harry starting to stretch of way down again pursing his father says \n",
      "14.  hermione were churning he hastily wiping his cold snitch let me my sister and ran up at them all these exotic plants harry tore pictures ll \n",
      "15.  hermione enthusiastically taking a foul simpering smile was lying there was a distance a pair of all the parchment from the rogue one hand eased them \n",
      "16.  hermione said harry genially on the disembodied voice magically magnified all right she s bathroom morning however if you will you didn t like chalk slipping \n",
      "17.  hermione meant to catch slytherin he was expelled but gave him it hadn t use it is not risk underage wizards on it s entirely truthful \n",
      "18.  hermione in here what looked down the hogwarts a number justin hurrying back in the car around his own business all we d you re talking \n",
      "19.  hermione whispered and he termed their hurry yeah he climbed it flew open she was a clearing he d you any mention it s full of \n",
      "20.  hermione as if they also an aged spider it was a ghost leapt you kwikspell envelope harry felt dreadful she said dumbledore sends his hat could \n"
     ]
    }
   ],
   "source": [
    "for i in range(20):\n",
    "    print(str(i+1)+\". \", generate(markov_model, start=\"hermione\", limit=25))"
   ]
  },
  {
   "cell_type": "code",
   "execution_count": 11,
   "metadata": {},
   "outputs": [
    {
     "name": "stdout",
     "output_type": "stream",
     "text": [
      "1.  ron laughed so disappointed you can i can fly here sir patrick s face slytherin is it i hadn t answer he had pierced him while \n",
      "2.  ron pressed a dark lord before he hadn t got a small burp and lowered ron and extracting a specially you snape catch the clouds a \n",
      "3.  ron still looking around at my glasses on malfoy s why don t blame him mum and madam hooch s happened i told her vivid hair \n",
      "4.  ron you outlined all over his cloak and the door flew open along with a bodiless voice mysteriously deaf to pm to repeat if anyone found \n",
      "5.  ron explaining you got up here said percy at him hermione in a better brooms yes only were the chairs set off toward the castle in \n",
      "6.  ron are far the gargoyle lemon drop of an underground really he had swallowed live in a chair better than a grinning widely at them off \n",
      "7.  ron s died in the hospital wing we ve trained wizard in a yell of you know we saw malfoy scornfully you put you mean he \n",
      "8.  ron grinned at the marble staircase they missed the stairs to set off his pouchy face what sort of blows from the rockfall i don t \n",
      "9.  ron wait till you need the steering wheel so angry screech and in knockturn alley this deep disgust prefect but why lockhart shook his temper of \n",
      "10.  ron arrived on his pruning the people flooded out over the gryffindors were already dead argus he was damp compost heap and vanished you t hear \n",
      "11.  ron quickly i m going to make sure it up to poke its deadly dull lecture said harry reassured her small vegetable patch follow the dueling \n",
      "12.  ron she said suspiciously trying to whom were indeed sitting down and another slug repellent growled hagrid was half past of the seven o clock harry \n",
      "13.  ron she had dropped from somewhere riddle was and the way lockhart when harry hurriedly at all danger has been expelled it said ron said ron \n",
      "14.  ron ron s told me and said mrs norris i put them on bludgers there was able to write to potter goes through the warning he \n",
      "15.  ron as brightly as you know more water all know i think the attacks this place as red his being swept off their exams there had \n",
      "16.  ron cast by far from a brilliant teeth apart puts it hagrid the rest of quickstep stop trusting her chest expanded so said ron stifled harry \n",
      "17.  ron sat down her mouth and squirted boiling kettle yawned fred and ginny was a picture of many dangerous who was a cat what do wonder \n",
      "18.  ron blushed even unhappier about my son and tried vainly to be a second time to the crowd enjoying the trail of clicking and cold sweat \n",
      "19.  ron miserably into the right way he was a hesitant voice he said hermione throwing harry ran to inspect it wasn t look around the best \n",
      "20.  ron helping himself from twigs and extremely strict ten minutes past harry potter stay behind to bed rest of colin creevey had to speak harry didn \n"
     ]
    }
   ],
   "source": [
    "for i in range(20):\n",
    "    print(str(i+1)+\". \", generate(markov_model, start=\"ron\", limit=25))"
   ]
  },
  {
   "cell_type": "code",
   "execution_count": 13,
   "metadata": {},
   "outputs": [
    {
     "name": "stdout",
     "output_type": "stream",
     "text": [
      "professor dumbledore dear you d gone to me like me said something harry understood me you may lead sixty minutes into the weasleys hedge on the grave he had been writing on his own let them safely in the list a strange angle riddled with its eye peering through the deserted sorry or ginny was now what i say it the chamber floor his class began to you ve always loved me sent men to worry about dobby his eyes narrowed dangerously again slowly squinting around him into focus harry i m not what harry fred could speak parseltongue unless i m sorry or your singing causing something if you see they listened as you can i expect they dear said harry gasped and they hurried back with a diary give me there was on the slope toward the office he moaned as dobby can i couldn t sensible to be in her potter must be able to deal to look in turning back outside dobby from his feet together his mouth could you now said there was true riddle poor dobby backed away before hermione i ll argus said harry muttered ron and lay on them shredded books were a cell in horror within an extraordinary magical learning even know that or celebrity does not enough don t pleased to do memory charm your dormitory said mr malfoy who spit over the wall harry that mr borgin said harry saw that was still disapproving of them and wiser wizards called back at each other hermione this could see how greedy they wouldn t there was giving out more about weasley blankly at the rest of other eleven mr and the people i noticed he was standing at my ideal gift he heard of mud and across the girl said dumbledore who stepped over with clothes a walk on countless times in azkaban and there will be waking in charms but he skimmed the spiders fear had soared joyfully out for a blunt axe would advise you back into the restricted section of the heir of attention at harry sat up hardly daring to show his mouth could they had just let harry who gained power a burp you another way back to get all over in close behind filch was wafting from the large dollops of february on said hermione lay a small sack you said a brother has been feeding me everything for himself slowly into the gryffindor only seen said harry moved gladly into the front seats as crabbe and hermione it closed while you a pinch of an urgent voices downstairs falter i m riddle quietly to meet ginny said hagrid had no one family was insisting on all over it only remaining hand into an absorbing conversation they had one who was sympathetic i ll be taking pictures with the goal posts where for help me over a pop you know a good there s wattlebird said mr weasley s lasted as they were hidden riddle \n"
     ]
    }
   ],
   "source": [
    "print(generate(markov_model, start=\"professor\", limit=500))"
   ]
  }
 ],
 "metadata": {
  "kaggle": {
   "accelerator": "none",
   "dataSources": [
    {
     "datasetId": 5637,
     "sourceId": 8412,
     "sourceType": "datasetVersion"
    }
   ],
   "dockerImageVersionId": 30035,
   "isGpuEnabled": false,
   "isInternetEnabled": false,
   "language": "python",
   "sourceType": "notebook"
  },
  "kernelspec": {
   "display_name": "Python 3 (ipykernel)",
   "language": "python",
   "name": "python3"
  },
  "language_info": {
   "codemirror_mode": {
    "name": "ipython",
    "version": 3
   },
   "file_extension": ".py",
   "mimetype": "text/x-python",
   "name": "python",
   "nbconvert_exporter": "python",
   "pygments_lexer": "ipython3",
   "version": "3.12.7"
  }
 },
 "nbformat": 4,
 "nbformat_minor": 4
}
