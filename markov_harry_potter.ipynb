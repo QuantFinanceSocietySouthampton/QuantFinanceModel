{
 "cells": [
  {
   "cell_type": "markdown",
   "metadata": {},
   "source": [
    "## Imports"
   ]
  },
  {
   "cell_type": "code",
   "execution_count": 1,
   "metadata": {
    "_cell_guid": "b1076dfc-b9ad-4769-8c92-a6c4dae69d19",
    "_uuid": "8f2839f25d086af736a60e9eeb907d3b93b6e0e5"
   },
   "outputs": [],
   "source": [
    "import re\n",
    "from nltk.tokenize import word_tokenize\n",
    "import random\n",
    "import nltk"
   ]
  },
  {
   "cell_type": "markdown",
   "metadata": {},
   "source": [
    "## Reading The Chamber of Secrets"
   ]
  },
  {
   "cell_type": "code",
   "execution_count": 2,
   "metadata": {},
   "outputs": [
    {
     "name": "stdout",
     "output_type": "stream",
     "text": [
      "number of lines =  3216\n"
     ]
    }
   ],
   "source": [
    "path = \"kaggle/input/harry_potter/02 Harry Potter and the Chamber of Secrets.txt\"\n",
    "\n",
    "def read_story(path):\n",
    "    txt = []\n",
    "\n",
    "    with open(path) as f:\n",
    "        for line in f:\n",
    "            line = line.strip()\n",
    "            if line!='':txt.append(line)\n",
    "    \n",
    "    return txt\n",
    "\n",
    "story = read_story(path)\n",
    "print(\"number of lines = \", len(story))"
   ]
  },
  {
   "cell_type": "markdown",
   "metadata": {},
   "source": [
    "## Cleaning the text"
   ]
  },
  {
   "cell_type": "code",
   "execution_count": 3,
   "metadata": {},
   "outputs": [
    {
     "name": "stdout",
     "output_type": "stream",
     "text": [
      "number of words =  87271\n"
     ]
    }
   ],
   "source": [
    "def clean_txt(txt):\n",
    "    cleaned_txt = []\n",
    "    for line in txt:\n",
    "        line = line.lower()\n",
    "        line = re.sub(r\"[,.\\\"\\'!@#$%^&*(){}?/;`~:<>+=-\\\\]\", \"\", line)\n",
    "        tokens = word_tokenize(line)\n",
    "        words = [word for word in tokens if word.isalpha()]\n",
    "        cleaned_txt += words\n",
    "    return cleaned_txt\n",
    "\n",
    "cleaned_story = clean_txt(story)\n",
    "print(\"number of words = \", len(cleaned_story))"
   ]
  },
  {
   "cell_type": "markdown",
   "metadata": {},
   "source": [
    "## Creating the Markov Model"
   ]
  },
  {
   "cell_type": "code",
   "execution_count": 4,
   "metadata": {},
   "outputs": [],
   "source": [
    "def make_markov_model(cleaned_story, n_gram=2):\n",
    "    markov_model = {}\n",
    "    for i in range(len(cleaned_story)-n_gram-1):\n",
    "        curr_state, next_state = \"\", \"\"\n",
    "        for j in range(n_gram):\n",
    "            curr_state += cleaned_story[i+j] + \" \"\n",
    "            next_state += cleaned_story[i+j+n_gram] + \" \"\n",
    "        curr_state = curr_state[:-1]\n",
    "        next_state = next_state[:-1]\n",
    "        if curr_state not in markov_model:\n",
    "            markov_model[curr_state] = {}\n",
    "            markov_model[curr_state][next_state] = 1\n",
    "        else:\n",
    "            if next_state in markov_model[curr_state]:\n",
    "                markov_model[curr_state][next_state] += 1\n",
    "            else:\n",
    "                markov_model[curr_state][next_state] = 1\n",
    "    \n",
    "    # calculating transition probabilities\n",
    "    for curr_state, transition in markov_model.items():\n",
    "        total = sum(transition.values())\n",
    "        for state, count in transition.items():\n",
    "            markov_model[curr_state][state] = count/total\n",
    "        \n",
    "    return markov_model"
   ]
  },
  {
   "cell_type": "code",
   "execution_count": 5,
   "metadata": {},
   "outputs": [],
   "source": [
    "markov_model = make_markov_model(cleaned_story)"
   ]
  },
  {
   "cell_type": "code",
   "execution_count": 6,
   "metadata": {},
   "outputs": [
    {
     "name": "stdout",
     "output_type": "stream",
     "text": [
      "number of states =  45475\n"
     ]
    }
   ],
   "source": [
    "print(\"number of states = \", len(markov_model.keys()))"
   ]
  },
  {
   "cell_type": "code",
   "execution_count": 7,
   "metadata": {},
   "outputs": [
    {
     "name": "stdout",
     "output_type": "stream",
     "text": [
      "All possible transitions from 'chamber of' state: \n",
      "\n",
      "{'secrets chapter': 0.22807017543859648, 'secrets has': 0.05263157894736842, 'secrets what': 0.017543859649122806, 'secrets said': 0.07017543859649122, 'you all': 0.017543859649122806, 'secrets the': 0.017543859649122806, 'secrets so': 0.017543859649122806, 'secrets unleash': 0.017543859649122806, 'secrets ron': 0.017543859649122806, 'secrets for': 0.05263157894736842, 'secrets is': 0.07017543859649122, 'secrets harry': 0.03508771929824561, 'secrets was': 0.03508771929824561, 'secrets with': 0.017543859649122806, 'secrets his': 0.017543859649122806, 'secrets in': 0.017543859649122806, 'secrets fifty': 0.017543859649122806, 'secrets and': 0.05263157894736842, 'secrets closed': 0.017543859649122806, 'secrets they': 0.017543859649122806, 'secrets all': 0.017543859649122806, 'secrets out': 0.017543859649122806, 'secrets have': 0.017543859649122806, 'secrets he': 0.017543859649122806, 'secrets itself': 0.017543859649122806, 'secrets that': 0.017543859649122806, 'secrets we': 0.017543859649122806, 'secrets she': 0.017543859649122806, 'secrets forsaken': 0.017543859649122806, 'secrets might': 0.017543859649122806, 'secrets professor': 0.017543859649122806}\n"
     ]
    }
   ],
   "source": [
    "print(\"All possible transitions from 'chamber of' state: \\n\")\n",
    "print(markov_model['chamber of'])"
   ]
  },
  {
   "cell_type": "markdown",
   "metadata": {},
   "source": [
    "## Text Generation"
   ]
  },
  {
   "cell_type": "code",
   "execution_count": 8,
   "metadata": {},
   "outputs": [],
   "source": [
    "def generate(markov_model, limit=100, start='chamber of'):\n",
    "    n = 0\n",
    "    curr_state = start\n",
    "    next_state = None\n",
    "    story = \"\"\n",
    "    story += curr_state + \" \"\n",
    "    while n < limit:\n",
    "        next_state = random.choices(list(markov_model[curr_state].keys()),\n",
    "                                    list(markov_model[curr_state].values()))\n",
    "        \n",
    "        curr_state = next_state[0]\n",
    "        story += curr_state + \" \"\n",
    "        n += 1\n",
    "    return story"
   ]
  },
  {
   "cell_type": "code",
   "execution_count": 9,
   "metadata": {},
   "outputs": [
    {
     "name": "stdout",
     "output_type": "stream",
     "text": [
      "1.  harry potter the words sir nicholas de died october harry watched amazed as a school treat oh no professor see harry harry did it he did hp harry potter and his friends \n",
      "2.  harry potter is valiant and bold he has to deal with muggle business all the time s flown hasn t reported all these attacks is caught you ll need to address the \n",
      "3.  harry potter said riddle drawing out his wand lockhart slid his legs into the school and was told that the candles burned lower and lower making the light as though we were \n",
      "4.  harry potter mustn t be harry lay awake for hours mrs weasley looking nervously at the floor and the snake was spitting in agony no harry heard riddle s hissing voice kill \n",
      "5.  harry potter and the dormitories night harry called back to finish these people with dumbledore gone fear had spread as never before so that the stars shone brightly on the end of \n",
      "6.  harry potter goes back to hogwarts it s a real emergency section nineteen or something of a holdup in the head and the dead basilisk over harry in surprise there is a \n",
      "7.  harry potter is greater by far than dobby knew he if this plan could possibly work harry took his and ron s and hermione fought their way over both clutching stacks of \n",
      "8.  harry potter a plot harry potter met the sly old dog professor flitwick buried his face mr malfoy slowly to dumbledore a clever plan said dumbledore firmly it would take dark magic \n",
      "9.  harry potter and the boomslang skin and the basilisk c mon ginny let s go and alert the kitchens right said professor mcgonagall weakly mrs weasley s sons were taller than she \n",
      "10.  harry potter is humble and modest said dobby plucking at the pillowcase tis a mark of the s goggling tennis ball eyes were peering at harry his beard twitching said she was \n",
      "11.  harry potter came back saying he d never had friends before hogwarts dudley had said the creature oh really said mr weasley with grim satisfaction oh i d spent searching for it \n",
      "12.  harry potter go back into it that he was guilty said lockhart but how do we know who s behind them who was it to the window next to the ground with \n",
      "13.  harry potter and the postal service worked fascinating he would flay him to within an inch of skin and sinew holding my neck on harry most people would stop talking behind my \n",
      "14.  harry potter risks his own life for his dirty work not for the first time at the ministry of magic by gilderoy lockhart travels with trolls as he hung upside down avoiding \n",
      "15.  harry potter shone like a beacon of hope for those of us who thought the dark arts said hermione at once why you d probably have to use the bathroom unaccompanied by \n",
      "16.  harry potter s life better sent home grievously injured than remain here sir dobby has heard it it was harry s turn for an elbow in the butter dish fortunately no one \n",
      "17.  harry potter the crowd he knew it was hagrid ron hagrid opened the chamber of secrets chapter twelve the polyjuice potion it s ready harry sat down on a stone step and \n",
      "18.  harry potter is valiant and bold he has starting to feel quite angry what s wrong with everyone else he got up and left the office flew open at once why demanded \n",
      "19.  harry potter goes back to hogwarts also sounded exactly like the sort of thing you bandy about with the result was that you said harry his voice echoing in the field over \n",
      "20.  harry potter and with a final loud crack dobby disappeared harry had been to one of you he said slowly the flood from moaning myrtle s bathroom i bet you re surprised \n"
     ]
    }
   ],
   "source": [
    "for i in range(20):\n",
    "    print(str(i+1)+\". \", generate(markov_model, start=\"harry potter\", limit=15))"
   ]
  },
  {
   "cell_type": "code",
   "execution_count": 10,
   "metadata": {},
   "outputs": [
    {
     "name": "stdout",
     "output_type": "stream",
     "text": [
      "1.  hermione granger and i ll have to buy my autobiography which i shall be happy to pass on my expertise to less able harry made an indistinct noise in his face and \n",
      "2.  hermione granger standing at a doorway muttering to each other what s up said ron uncertainly have you said harry with a wave of yet more water which splashed onto the already \n",
      "3.  hermione granger always top in everything hermione beamed as she threw sausages into the chattering crowd someone told me a voice suddenly echoed behind harry and ron followed snape up the steps \n",
      "4.  hermione granger standing at the top and professor mcgonagall stepped onto it harry heard a door creak open and then i had one of the books mum got me i m pale \n",
      "5.  hermione granger hermione raised a trembling hand excellent beamed lockhart they will knock you out for several hours earlier than he would have asked anyone can make a mistake said hermione and \n",
      "6.  hermione granger always top in everything hermione beamed as she had her copy of the standard book of spells grade by miranda goshawk break with a hearty guffaw and clapped her hands \n",
      "7.  hermione granger i would buy you a racing broom said his father a long silvery thread was dangling off its hinges hermione put her elbow in the ribs oh yeah she did \n",
      "8.  hermione granger and i ve seen the real you i thought you mighta bin professor lockhart requested you particularly eight o clock petunia you will be able to charm the people i \n",
      "9.  hermione granger always top in everything hermione beamed as she spoke making it draw in the end as your parents will go hungry for a month said ron impatiently what s been \n",
      "10.  hermione granger i would have thought you d better get off the bed seized harry s hand i would advise you not to shout anymore half the courtyard was listening to lockhart \n",
      "11.  hermione granger i would advise you not to perform simple spells ever been taunted for your lives attaaaack crash crash door after door flew open at this time my sweet his eyes \n",
      "12.  hermione granger i would urge anyone who thinks are scum he looked at lucius malfoy if the governors want my removal lucius i shall make sure everyone s told me the whole \n",
      "13.  hermione granger i would urge anyone who thinks are scum he looked up at them all the copies of hogwarts headmasters and headmistresses haven t found the thing his heart beating so \n",
      "14.  hermione granger they however didn t come much worse than he had emerged into a clearing mr weasley started to laugh for a long black cloak and pointed it at that moment \n",
      "15.  hermione granger always top in everything hermione beamed as she spoke they turned a corner and she stopped before a large and beautiful circular room full of funny little noises a number \n",
      "16.  hermione granger and i don t think you ll find that hard to prove said hermione cautiously i suppose it s but how do you know it rings a sort of expression \n",
      "17.  hermione granger standing at the end of his pocket and began to run blindly sideways his hands outstretched feeling his way voldemort was laughing harry tripped he fell silent a lurking doubt \n",
      "18.  hermione granger always top in everything hermione beamed as she spoke making it draw in the opposite direction harry found ron at the back and sending him face first into the table \n",
      "19.  hermione granger standing at the end of the school to eat they said to the grangers shaking with silent laughter hermione on the other gryffindors most of their beds ron grinned guiltily \n",
      "20.  hermione granger always top in everything hermione beamed as she found the page headed the polyjuice potion t hey stepped off the invisibility cloak fang was sinking deeper and deeper into his \n"
     ]
    }
   ],
   "source": [
    "for i in range(20):\n",
    "    print(str(i+1)+\". \", generate(markov_model, start=\"hermione granger\", limit=15))"
   ]
  },
  {
   "cell_type": "code",
   "execution_count": 11,
   "metadata": {},
   "outputs": [
    {
     "name": "stdout",
     "output_type": "stream",
     "text": [
      "1.  ron weasley and hermione chose seats as far as possible from percy in the cupboard under the stairs and the moment harry was sure he had pushed to the front of her \n",
      "2.  ron weasley and hermione looked at dumbledore who smiled faintly the firelight and then he caught up with them at least he d have to tell them about colin but hermione interrupted \n",
      "3.  ron weasley was outside harry s room third time this week he roared across the table crouched low and walked to the school and he still had to all three of them \n",
      "4.  ron weasley wasn t even aware of deciding to do extra but why don t you have told us all this yesterday when we were awake wood wasn t pleased harry was \n",
      "5.  ron weasley was outside harry s astonishment dumbledore smiled about time too he said hotly if lockhart s trunk aside lockhart was standing well back and no more ask no more ask \n",
      "6.  ron weasley wasn t paying attention said myrtle blushing silver urgh said ron as they left the great hall harry and ron paced around it too harry peeled the wet pages apart \n",
      "7.  ron weasley wasn t back yet harry pulled out his wand yelling you ll be back with us he s and he wasn t supposed to be werewolves in the place was \n",
      "8.  ron weasley wasn t there i hope everything went all right and that harry was sure he d never meant any of it load of dung dad reckons he was the on \n",
      "9.  ron weasley was outside harry s very mysterious past of the reason he had to go and find the spiders that d lead em right that s all i wanted to know \n",
      "10.  ron weasley was outside harry s wand fell to the window and someone was creeping along the passage hoping against hope that malfoy hadn t joined in ron advised and your eyes \n",
      "11.  ron weasley wasn t looking at him through a misted window but there was a big lumpy package bounced off neville s snuffling snores from the dursleys they had sent harry a \n",
      "12.  ron weasley was outside harry s insides did a horrible melting feeling as the three of the slytherins no one will be writing to me dobby shuffled his feet harry potter mustn \n",
      "13.  ron weasley was outside harry s least favorite teacher harry also happened to be nodding off against the light merry christmas to you too just last night we were saying we d \n",
      "14.  ron weasley and hermione made him feel sick hard knocked his elbow and harry sat down on the floor but this was obvious was giving you that because it was with relief \n",
      "15.  ron weasley was outside harry s ears ron harry yelled the weasleys but lockhart was twirling his wand at lockhart with an angry screech and sped in the packed street guess who \n",
      "16.  ron weasley and hermione were planning to go ahead of them and he opened the door shut put your foot down fred yelled ron and the various swellings had subsided snape swept \n",
      "17.  ron weasley and hermione came hurrying over to her potter i think i m sure none of you the seriousness of what uncle vernon s company made drills i think you re \n",
      "18.  ron weasley wasn t the mandrakes threw a loud and raucous party in greenhouse one before greenhouse three housed far more interesting and dangerous plants professor sprout took a large stone pigpen \n",
      "19.  ron weasley was outside harry s surprise hermione s hand meet you said harry through the air toward them why s that voice again but there was no good there were too \n",
      "20.  ron weasley was outside harry s knees choked tarantallegra and the next passage that peter weasley percy ron corrected him automatically whatever said malfoy bowing we shall all miss your er highly \n"
     ]
    }
   ],
   "source": [
    "for i in range(20):\n",
    "    print(str(i+1)+\". \", generate(markov_model, start=\"ron weasley\", limit=15))"
   ]
  },
  {
   "cell_type": "code",
   "execution_count": 12,
   "metadata": {},
   "outputs": [
    {
     "name": "stdout",
     "output_type": "stream",
     "text": [
      "professor dumbledore has only been suspended by the searing pain in his numb brain get to the other balls for colin asked tripping down a couple of steps to gringotts she ran down to lockhart s office they turned into muddy streams and hagrid had left after a quarter of an hour adding more lacewings to the potion looked like the largest but opposite was a bird that resembled a park bench i mean we teachers have quite enough to make your bludger said harry anger was coursing through him to the hospital wing burst open at that very moment a heavy book from the stack on the polyjuice potion again ron and hermione had made it look extremely easy but it wasn t even aware of deciding to do i m in gryffindor tower harry showed her t m riddle s face to harry no second year could have picked it up saying whoops my wand is a little lesson let s match he went on but i was sympathetic i was kind ginny simply loved me no one s lasted long fer a while said hermione in a corner of the gryffindor team were already in the changing room wood was the best man for the old cleansweeps he smiled at seamus devilish tricky little blighters they can t usually make harry feel sick with fear but that could have survived a curse from the greatest dark sorcerer of all the people you re not he said his voice feeble boys what good will it do you live in a corner next to a large bottle of ogdeds old firewhisky he gave harry a little shake that made harry so particularly unusual even for a wizard house before the clock on the edge of the room and left his body and legs and each of the window traffic was rumbling along the dark corridor he caught his mother s eye peering through it oh yes said riddle calmly harry lowered ginny back onto the desk just as the whole slytherin team smiled still more broadly let me show you the generous gift he s in a kind of penetrating stare harry knew the whole thing s weird what was that you said harry we can t get out of here in no time i just hope he s made to the slytherin team who carry clubs to beat the bludgers have been worried about you too mr potter mr weasley blinked well dear i think you re going to the roots of her flaming hair and an anxious expression and was wearing harry potter mustn t tell squealed the elf s arm and pulled his wand high but malfoy had set out in a telephone booth by a headless horseman the assembly clapped wildly harry started to tell the truth they d have learned by now malfoy went even paler than usual but lockhart s disgusting cheeriness his hints that he had was as though somebody had just been having who d want to tell me you weren t intending to fly harry said riddle still smiling broadly and he and ron looked at dumbledore who was sitting in one corner a fire crackling merrily in the other balls for colin asked tripping down a couple of the astronomy department but nobody answered don t you tell us anything about them to come forward she climbed somewhat awkwardly out of the window was it with lockhart keeping his voice low so as not to worry for all the blame no one would see this little button here is an invisibility booster i installed that d get us up in the near blackness harry could move dobby had darted to the rescue he didn t you i know you d never read one o his books an he decided ter go treacle fudge which harry reminded himself it probably was four or five chimneys were perched on top of his robes was what it felt as though she were sending them to the front the crowd burst into applause harry s arm a pearly patch of tears was shining on the window shouting bad dobby very bad business had to come and take what we truly are far more powerful than little miss weasley powerful enough to stand in lockhart was tugging hard on an old medal for magical merit and on a groan gilderoy lockhart was standing in a huddle having a constant stomachache he missed out on the defense against dark arts job again or he might be slytherin s heir that s all i m sayin fudge stared at him you can explain this it was merely a lucky chance that saved you from the dursleys he carried a bowler that s the second year running or professor mcgonagall standing up to snape s nasty smile but as warm blood drenched harry s arms he felt the bird the boy leave the ground too heard fang the darkness its rear lights blazing angrily come back ron yelled after it brandishing his broken wand dad ll kill you i thought you d read my private that it s that first year at hogwarts ron assured her they heard the voice smell smell blood his stomach lurched it s going on said harry wearily we d better get going hagrid it s never too early to think about and there was fawkes still resting his head english he said harry angrily give me my common mother he added twinkling kindly down at him oh he is fit for living people at their tray by a hufflepuff boy harry knew by sight but ron was standing well back a look of great bitterness on his feet ready the basilisk s mouth something was shining on the wall thud closed behind them who was wearing a flowered apron with a crack like a whip dobby vanished there were long pointed ears poking through her megaphone all students are to make sure their \n"
     ]
    }
   ],
   "source": [
    "print(generate(markov_model, start=\"professor dumbledore\", limit=500))"
   ]
  },
  {
   "cell_type": "code",
   "execution_count": null,
   "metadata": {},
   "outputs": [],
   "source": []
  }
 ],
 "metadata": {
  "kaggle": {
   "accelerator": "none",
   "dataSources": [
    {
     "datasetId": 5637,
     "sourceId": 8412,
     "sourceType": "datasetVersion"
    }
   ],
   "dockerImageVersionId": 30035,
   "isGpuEnabled": false,
   "isInternetEnabled": false,
   "language": "python",
   "sourceType": "notebook"
  },
  "kernelspec": {
   "display_name": "Python 3 (ipykernel)",
   "language": "python",
   "name": "python3"
  },
  "language_info": {
   "codemirror_mode": {
    "name": "ipython",
    "version": 3
   },
   "file_extension": ".py",
   "mimetype": "text/x-python",
   "name": "python",
   "nbconvert_exporter": "python",
   "pygments_lexer": "ipython3",
   "version": "3.12.7"
  }
 },
 "nbformat": 4,
 "nbformat_minor": 4
}
