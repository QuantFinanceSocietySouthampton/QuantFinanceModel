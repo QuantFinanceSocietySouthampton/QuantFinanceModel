{
 "cells": [
  {
   "cell_type": "markdown",
   "metadata": {},
   "source": [
    "## Imports"
   ]
  },
  {
   "cell_type": "code",
   "execution_count": 17,
   "metadata": {
    "_cell_guid": "b1076dfc-b9ad-4769-8c92-a6c4dae69d19",
    "_uuid": "8f2839f25d086af736a60e9eeb907d3b93b6e0e5"
   },
   "outputs": [],
   "source": [
    "import re\n",
    "from nltk.tokenize import word_tokenize\n",
    "import random\n",
    "import nltk"
   ]
  },
  {
   "cell_type": "markdown",
   "metadata": {},
   "source": [
    "## Reading The Chamber of Secrets"
   ]
  },
  {
   "cell_type": "code",
   "execution_count": 2,
   "metadata": {},
   "outputs": [
    {
     "name": "stdout",
     "output_type": "stream",
     "text": [
      "number of lines =  3216\n"
     ]
    }
   ],
   "source": [
    "path = \"kaggle/input/harry_potter/02 Harry Potter and the Chamber of Secrets.txt\"\n",
    "\n",
    "def read_story(path):\n",
    "    txt = []\n",
    "\n",
    "    with open(path) as f:\n",
    "        for line in f:\n",
    "            line = line.strip()\n",
    "            if line!='':txt.append(line)\n",
    "    \n",
    "    return txt\n",
    "\n",
    "story = read_story(path)\n",
    "print(\"number of lines = \", len(story))"
   ]
  },
  {
   "cell_type": "markdown",
   "metadata": {},
   "source": [
    "## Cleaning the text"
   ]
  },
  {
   "cell_type": "code",
   "execution_count": 3,
   "metadata": {},
   "outputs": [
    {
     "name": "stdout",
     "output_type": "stream",
     "text": [
      "number of words =  87271\n"
     ]
    }
   ],
   "source": [
    "def clean_txt(txt):\n",
    "    cleaned_txt = []\n",
    "    for line in txt:\n",
    "        line = line.lower()\n",
    "        line = re.sub(r\"[,.\\\"\\'!@#$%^&*(){}?/;`~:<>+=-\\\\]\", \"\", line)\n",
    "        tokens = word_tokenize(line)\n",
    "        words = [word for word in tokens if word.isalpha()]\n",
    "        cleaned_txt += words\n",
    "    return cleaned_txt\n",
    "\n",
    "cleaned_story = clean_txt(story)\n",
    "print(\"number of words = \", len(cleaned_story))"
   ]
  },
  {
   "cell_type": "markdown",
   "metadata": {},
   "source": [
    "## Creating the Markov Model"
   ]
  },
  {
   "cell_type": "code",
   "execution_count": 84,
   "metadata": {},
   "outputs": [],
   "source": [
    "def make_markov_model(cleaned_story, n_gram=2):\n",
    "    markov_model = {}\n",
    "    for i in range(len(cleaned_story)-n_gram-1):\n",
    "        curr_state, next_state = \"\", \"\"\n",
    "        for j in range(n_gram):\n",
    "            curr_state += cleaned_story[i+j] + \" \"\n",
    "            next_state += cleaned_story[i+j+n_gram] + \" \"\n",
    "        curr_state = curr_state[:-1]\n",
    "        next_state = next_state[:-1]\n",
    "        if curr_state not in markov_model:\n",
    "            markov_model[curr_state] = {}\n",
    "            markov_model[curr_state][next_state] = 1\n",
    "        else:\n",
    "            if next_state in markov_model[curr_state]:\n",
    "                markov_model[curr_state][next_state] += 1\n",
    "            else:\n",
    "                markov_model[curr_state][next_state] = 1\n",
    "    \n",
    "    # calculating transition probabilities\n",
    "    for curr_state, transition in markov_model.items():\n",
    "        total = sum(transition.values())\n",
    "        for state, count in transition.items():\n",
    "            markov_model[curr_state][state] = count/total\n",
    "        \n",
    "    return markov_model"
   ]
  },
  {
   "cell_type": "code",
   "execution_count": 85,
   "metadata": {},
   "outputs": [],
   "source": [
    "markov_model = make_markov_model(cleaned_story)"
   ]
  },
  {
   "cell_type": "code",
   "execution_count": 86,
   "metadata": {},
   "outputs": [
    {
     "name": "stdout",
     "output_type": "stream",
     "text": [
      "number of states =  45475\n"
     ]
    }
   ],
   "source": [
    "print(\"number of states = \", len(markov_model.keys()))"
   ]
  },
  {
   "cell_type": "code",
   "execution_count": 87,
   "metadata": {},
   "outputs": [
    {
     "name": "stdout",
     "output_type": "stream",
     "text": [
      "All possible transitions from 'chamber of' state: \n",
      "\n",
      "{'secrets chapter': 0.22807017543859648, 'secrets has': 0.05263157894736842, 'secrets what': 0.017543859649122806, 'secrets said': 0.07017543859649122, 'you all': 0.017543859649122806, 'secrets the': 0.017543859649122806, 'secrets so': 0.017543859649122806, 'secrets unleash': 0.017543859649122806, 'secrets ron': 0.017543859649122806, 'secrets for': 0.05263157894736842, 'secrets is': 0.07017543859649122, 'secrets harry': 0.03508771929824561, 'secrets was': 0.03508771929824561, 'secrets with': 0.017543859649122806, 'secrets his': 0.017543859649122806, 'secrets in': 0.017543859649122806, 'secrets fifty': 0.017543859649122806, 'secrets and': 0.05263157894736842, 'secrets closed': 0.017543859649122806, 'secrets they': 0.017543859649122806, 'secrets all': 0.017543859649122806, 'secrets out': 0.017543859649122806, 'secrets have': 0.017543859649122806, 'secrets he': 0.017543859649122806, 'secrets itself': 0.017543859649122806, 'secrets that': 0.017543859649122806, 'secrets we': 0.017543859649122806, 'secrets she': 0.017543859649122806, 'secrets forsaken': 0.017543859649122806, 'secrets might': 0.017543859649122806, 'secrets professor': 0.017543859649122806}\n"
     ]
    }
   ],
   "source": [
    "print(\"All possible transitions from 'chamber of' state: \\n\")\n",
    "print(markov_model['chamber of'])"
   ]
  },
  {
   "cell_type": "markdown",
   "metadata": {},
   "source": [
    "## Text Generation"
   ]
  },
  {
   "cell_type": "code",
   "execution_count": 71,
   "metadata": {},
   "outputs": [],
   "source": [
    "def generate(markov_model, limit=100, start='chamber of'):\n",
    "    n = 0\n",
    "    curr_state = start\n",
    "    next_state = None\n",
    "    story = \"\"\n",
    "    story += curr_state + \" \"\n",
    "    while n < limit:\n",
    "        next_state = random.choices(list(markov_model[curr_state].keys()),\n",
    "                                    list(markov_model[curr_state].values()))\n",
    "        \n",
    "        curr_state = next_state[0]\n",
    "        story += curr_state + \" \"\n",
    "        n += 1\n",
    "    return story"
   ]
  },
  {
   "cell_type": "code",
   "execution_count": 72,
   "metadata": {},
   "outputs": [
    {
     "name": "stdout",
     "output_type": "stream",
     "text": [
      "1.  harry potter escaped yet again harry pinned to his sweater back on the platform that was cutting into goyle s cauldron goyle s potion exploded showering the whole class was about as safe as poking a sleeping dragon in the shape of a tombstone with icing forming the words sir nicholas de \n",
      "2.  harry potter must not dobby suddenly froze his bat ears quivering harry heard it it s very boring but there was no need to do is make sure they are they re thinking of privet drive had reached for the owl aunt petunia was and bony dudley was blond pink and porky \n",
      "3.  harry potter like what harry spat fists still clenched well said riddle still smiling broadly twice in your books books can be the pixies seized his crossbow and flung open his door and stepped in front were shaking with silent laughter hermione on the house team said malfoy they re in the \n",
      "4.  harry potter mustn t tell squealed the elf dobby has them here sir said the elf dobby has known it meaning that they could hardly see for the steering wheel the car than to say all right harry i m starving i ve only got to find out everything i could about \n",
      "5.  harry potter my name is tom he sighed special arrangements might have hidden powers said hermione cautiously i suppose it s but how do you know the ministry s confiscated dad s told me a story he wanted to ask i wish i knew what he heard a sudden movement behind them \n",
      "6.  harry potter must go breathed the elf terrified there was a clunk a splash and a rotting newt tail before the other side of the dungeon the front page said feel out of step in the wizarding world harry looked into the other the corridor was deserted can t hurt to have \n",
      "7.  harry potter go home harry potter er yes harry muttered desperately shaking her ginny s lip trembled and harry was just thinking that all seemed to be pressing on their schedule professor binns who taught it was their only chance he rammed it onto his head and ran from the warmth and \n",
      "8.  harry potter er yes harry muttered but lockhart s disgusting slimy sock and looking excited i wonder who ll be back and obviously i can t be much good in a duel it looked as though he had just reached for the first time he d stopped enjoying the ride it was \n",
      "9.  harry potter leaves dobby no choice but to expel you does not rest with me i have lived here in person said george pointing several people in green ink dumbledore already knows you re much too heavy for a bird that resembled a turkey harry stared at it he said but these \n",
      "10.  harry potter is valiant and bold he has been sending a lot of ginny anyway where s lockhart back there said ron helping himself to floo powder too but dear if he s a girls bathroom on the back of harry s side he could run in for his broomstick but professor \n",
      "11.  harry potter s giving out signed photos how come i haven t said percy drawing himself up am a prefect but harry had escaped and flown away over the village instead they threw apples for one wild moment harry was surely the only way i m rather busy at the orange bedspread \n",
      "12.  harry potter and with another twinge of guilt harry spotted something several large spiders were scuttling over the statue on the bed seized harry by the flaming torches the chamber of secrets out of his back pocket stop stop he yelled whacking the dashboard okay we ll just go shall i still \n",
      "13.  harry potter and the postal service worked fascinating he would have found of getting along without magic harry looked up from the ceiling the car i wouldn t bet on that harry potter met the dark dark deeds are planned in this state there was a twisted old loony ron told harry \n",
      "14.  harry potter was a big supporter of and when disappeared said fred oh dear said hermione shrilly as they half ran toward professor mcgonagall so while the gryffindors had nowhere else to do and because he said you were the youngest house player in a hundred times i could ve gone up \n",
      "15.  harry potter got a new seeker you ve got to pick up the goods the moment they know you re in for his broomstick and kicked at the people nearest them right then lockhart said loudly pulling back the curtains around his pile of gold mrs weasley woke them all that the \n",
      "16.  harry potter and with its blank windows when harry pushed the door of moaning myrtle s bathroom i bet you five galleons the next day in herbology and he d placed the hat on a stool before the news at ten be shopping for a vacation home in majorca this time to \n",
      "17.  harry potter would get to school to eat they said to hagrid s it really but as it had done for him though not nearly as simple as that there was work involved i had to hand it over malfoy said percy drawing himself up and saw it scratched on the side \n",
      "18.  harry potter er yes harry muttered to his left full of the class tut tut hardly any of his homework done the last time he d thought both he and ron entered madam pomfrey let them in but the wizard he was still holding ginny s head again we ve got what \n",
      "19.  harry potter s own good the fur vanished the fangs shrank and he turned right over and sped off in the blink of an old turquoise car which hadn t discovered this book why ginny weasley came over and sat down next to ron who had been unable to eat they said \n",
      "20.  harry potter risks his own life for his sentence to fall but as filch lowered his voice mysteriously the hufflepuffs first harry ron and hermione inside when lockhart went on smiling you will both receive special awards for services to hogwarts either could ve had the key to the chamber was opened \n"
     ]
    }
   ],
   "source": [
    "for i in range(20):\n",
    "    print(str(i+1)+\". \", generate(markov_model, start=\"harry potter\", limit=15))"
   ]
  },
  {
   "cell_type": "code",
   "execution_count": 73,
   "metadata": {},
   "outputs": [
    {
     "name": "stdout",
     "output_type": "stream",
     "text": [
      "1.  hermione granger standing at the top of the hall snape stepped forward just the same way lucius said mr weasley and both of them another large pile lay on his moleskin overcoat but as long as justin doesn t have to join them but no one will mind me giving the best \n",
      "2.  hermione granger knew my secret ambition is to see goyle thinking he didn t agree to suspend me in the sunlight as he shook his head furiously on the desk and fixed harry with a sideways glance at harry filch ran from the house championship beating slytherin for the first one her \n",
      "3.  hermione granger always top in everything hermione beamed as she threw sausages into the pipe then let go of harry s way while she s cleaning harry left to look at the thing his heart beating so fast it hurt very slowly his eyes his pointed hat a silver prefect s badge \n",
      "4.  hermione granger i would have to leave and ll mum and dad say fawkes was waiting for the quidditch cup last year you re the gryffindor seeker aren t you he saw ron and hermione as they fought their way toward the corner where he and ron peered in at the great \n",
      "5.  hermione granger always top in everything hermione beamed as she landed on his bed are you all right i m a match for lucius malfoy said percy sternly when i find out some stuff all they d have to tell me what s wrong with stopping a massive snake biting off justin \n",
      "6.  hermione granger and i didn t think his legs would support him so he could look at the counter come draco harry wiped his forehead on his sleeve i ll tell father you re not telling me you did fly here said ron shielding his eyes aglow harry potter speaks not of \n",
      "7.  hermione granger they however didn t want you to tell the slytherins forever it wears off after a minute or so ron seemed to worry people most what could possibly mention to sir patrick spotting harry ron and hermione fought their way to the edge of revealing forbidden information i ve got \n",
      "8.  hermione granger standing at the top of harry s head went sailing past him to where professor dumbledore has only been suspended by the sight of his archenemy draco malfoy who had remained alone at the other two lockhart s books oh it s him this polyjuice stuff sounds a bit dodgy \n",
      "9.  hermione granger i would advise you not to smile and lockhart was blasted backward falling over his trunk right after us mrs weasley told harry as they left trying not to walk too quickly for harry and ron in the second week of december professor mcgonagall in a corner of the gryffindor \n",
      "10.  hermione granger they however didn t move he was holding up a chimney don t worry said fred and wait for mum to call us for breakfast then ron you come bounding downstairs going mum look who turned up in gryffindor along with ron and hermione strolled off along the corridor they \n",
      "11.  hermione granger standing at the top of his pocket that getting hit times in the neck and pulled hard harry let out a gasp of surprise that no one s going to talk now said riddle quietly that killing mudbloods doesn t use dark magic to open it was a great bang \n",
      "12.  hermione granger i would have thought you d think they had now begun to worry about now are airplanes said ron they were hampered of course i know i shouldn t ve enjoyed that or anything the dormitory door opened and ron exchanged nervous looks i tell you we were going to \n",
      "13.  hermione granger and i couldn t have yelled even if they are in her ear moaning myrtle burst into anguished sobs and fled from the dungeon was full of a small bomb harry flung his arms i don t know what it s like having a discussion of tactics harry was just \n",
      "14.  hermione granger they however didn t look remotely handsome anymore his lip his forehead harry wasn t sure what made him do it he said and harry s own diary a hush fell over the onlookers ginny was having nightmares meanwhile hidden from the look of abject terror on his desk and \n",
      "15.  hermione granger hermione raised a trembling hand excellent beamed lockhart they will knock you out for the bottom of the red roof a lopsided sign stuck in the right potion the pictures ll move colin drew a great arc soaring over the crowd everyone laughed and gradually a babble of talk from \n",
      "16.  hermione granger standing at the top of the car the fact that draco malfoy he had patched up his wand his spell hit harry so hard his ears and he was expelled said riddle s voice harry stammered but i m not there said ron hoarsely emerging over the tabletop looking pale \n",
      "17.  hermione granger i would have to tell the truth they d heard that arthur weasleys daughter had been lined with candles too though the trees were as thick as a python smash into it either they squirmed kicked flailed their sharp little fists and gnashed their teeth harry spent ten whole minutes \n",
      "18.  hermione granger they however didn t think their horror of anything connected with magic would stretch to a tumbledown garage in a bathroom i never saw any part of the disembodied voice he had asked hermione how many did yeh have ter do would be ter follow the hogwarts express so that \n",
      "19.  hermione granger hermione raised a trembling hand excellent beamed lockhart quite excellent take ten points for gryffindor securing the house quidditch team and hermione looked around people were now emerging from the crowd to speed them upward the fourteen players on broomsticks all harry didn t like that he d never meant \n",
      "20.  hermione granger i would have thought you d better open it ron was just mounting his broom when professor mcgonagall came around rain falling on his cloak for warmth harry scribbled a note to ron explaining where he was being sucked into the page pipes he said it hedwig was shrieking in \n"
     ]
    }
   ],
   "source": [
    "for i in range(20):\n",
    "    print(str(i+1)+\". \", generate(markov_model, start=\"hermione granger\", limit=15))"
   ]
  },
  {
   "cell_type": "code",
   "execution_count": 77,
   "metadata": {},
   "outputs": [
    {
     "name": "stdout",
     "output_type": "stream",
     "text": [
      "1.  ron weasley and hermione to go back term starts on september first there was an instant uproar at his words were drowned by a single oil lamp dangling from the accusing stare \n",
      "2.  ron weasley was outside harry s eyes narrowed ready to die fighting a loud bang and mr malfoy selling the smile faded slightly from mr borgin abandoning mr malfoy s hand what \n",
      "3.  ron weasley wasn t a proper wizard harry was just as much as the basilisk s victims will be waking up any moment so hermione s stall hermione come out ron asked \n",
      "4.  ron weasley wasn t howling anymore but cowering silently on the spot where they could have died you d have someone friendly to help fred and george jumping on him alicia shrieked \n",
      "5.  ron weasley wasn t much interested in anything else harry went to bed harry and ron looked even unhappier about that at the end toilet with difficulty he kicked off his shoes \n",
      "6.  ron weasley and hermione they went their footsteps slapping loudly on the floor next to the message on the wall to the back cover of the community particularly if they know you \n",
      "7.  ron weasley and hermione who were sitting in a cell in azkaban azkaban said harry puzzled azkaban the wizard prison goyle said ron that girl who reminded harry bossily you said you \n",
      "8.  ron weasley wasn t until they had reached the edge of the operation went just as preoccupied as he was in such a fury the result was that he was still terrifying \n",
      "9.  ron weasley and hermione they went straight into the low woolly clouds and everything turned dull and foggy now what ll we do said ron quietly in harry s case blood then \n",
      "10.  ron weasley wasn t my department though mortlake was taken away for questioning about some extremely odd ferrets but that s what i told lockhart yeh didn need teh yer more famous \n",
      "11.  ron weasley and hermione were walking at last exhausted he heard aunt petunia calling him get em all up ron i don t think i could ve died out he told ron \n",
      "12.  ron weasley wasn t he at the halloween be big enough by then what ve you been feeding them said harry i m i m colin creevey he said breathlessly oh come \n",
      "13.  ron weasley wasn t intending to fly harry said mr weasley passing harry and ron exchanged panicstricken looks then threw the invisibility cloak we re in class i think said ron in \n",
      "14.  ron weasley and hermione us malfoy crabbe and goyle and harry realized that he was hanging from one to the mouth of the pipe he s never traveled by floo powder slowly \n",
      "15.  ron weasley wasn t at all that potter has done anything wrong dumbledore was standing by the door bearing its out of her head against mrs weasley s car was thundering down \n",
      "16.  ron weasley wasn t his favorite carols hagrid booming more and more slugs dribbled down his long crooked nose at the same time ushered dobby back onto the chest of drawers when \n",
      "17.  ron weasley wasn t visible to the muggle eye what you had to see you harry thought of getting to his feet just as smoothly as hermione had said they lurked in \n",
      "18.  ron weasley and hermione had forgotten just how thin her mouth could go or he had wanted to watch my sister being sorted the sorting ceremony is over said professor binns in \n",
      "19.  ron weasley wasn t looking at him through using a telephone ingenious really how many ways muggles have found of getting along without magic harry heard ron gasp and looked from dumbledore \n",
      "20.  ron weasley wasn t alone after all standing on a cushion a bloodstained pack of cards and a second later harry spotted fred and george who had woken with a start why \n"
     ]
    }
   ],
   "source": [
    "for i in range(20):\n",
    "    print(str(i+1)+\". \", generate(markov_model, start=\"ron weasley\", limit=15))"
   ]
  },
  {
   "cell_type": "code",
   "execution_count": 76,
   "metadata": {},
   "outputs": [
    {
     "name": "stdout",
     "output_type": "stream",
     "text": [
      "professor dumbledore has only been suspended by the end of the class during their very next defense against the dark entrance hall when they were right outside his front door they knocked urgently hagrid appeared at the foot of the window into the back of his robes was what looked like an underfed vulture moste potente potions it looks like coming back to hogwarts he will be in the sixth year before he finished i never even told hagrid the rooster falling limply at his side a word you will find that madam pomfrey whispered to harry as george took an ordinary bird he turned quickly to the present he heard something something quite apart from the spitting of the greenhouse about twenty pairs of ear muffs were lying on the bench when harry kicked him hard under the desk he looked at hermione s rigid face because if he took the hat down and tried to kill you how did you come by my diary was opened and the isn t supposed to be werewolves in the face grinning embarrassedly but harry could feel his fingers he tried to say something in parseltongue the words weren t allowed to wander off on their last evening mrs weasley now when you get to diagon alley to buy your schoolbooks said mrs weasley woke them all early the following wednesday after a quick glance at harry filch ran from the office no fawkes the phoenix no whirring silver contraptions this was evidently a password because the gargoyle sprang suddenly to life and hopped aside as the wall all right and the kwikspell envelope from harry s quidditch robes mess and muck everywhere i ve had that first year creevey was annoying potter at the quidditch field he soared right around the castle in a pack of playing cards on the floor near the library said professor mcgonagall who was snape s desk some weighted down with arms like clubs others unable to talk their earmuffs were back george had spotted their friend from hogwarts lee jordan mrs weasley and ginny already sitting at the kitchen to find out where the slytherin team jeering and pointing they entered snape s least favorite teacher harry also happened to be coming back up mudblood s a squib said harry to show them harry and ron kept losing on purpose trying to finish cleaning mr malfoys shoes apparently mr malfoy had been sacked as a matter of deepest shame uncle vernon the instant he had simply got up to murder harry s own diary a hush fell over the hedge but the gnome sensing weakness sank its teeth into harry s head almost touching the sloping ceiling and blinked it was like having an extremely talkative shadow i don t think i m under a lot of letters and packages into the chattering crowd a big lumpy package bounced off neville s head came up to hagrid i yeh ve got to take you jiggery pokery said harry in high astonishment what are the other ghosts oh no said harry not far now and he added swiftly but it was only their terror that he could crawl along searching for clues scorch marks he said twanging his harp in a threatening sort of muggle trick said fred but we do have a set of suspicious circumstances here why was he in the upstairs landing when the door open chapter eighteen dobby s reward for a few seconds they didn t have long ter wait hagrid said with relish it happened right in here if i d ve died out he retched and ducked out of the room carrying a large and malevolent bat longbottom causes devastation with the simplest spells we ll be killin next calm yourself hagrid said aragog moving closer his eight milky eyes wandering vaguely strangers clicked the spider who had brought ron kill them clicked aragog fretfully years and he seemed to be in the night and she ll be really good if i had to put them on make sure your earmuffs are securely in place while you re at it professor flitwick knows more about hagrid s arrest than you do believe me don t like the sound of it had never occurred to harry s house it looked as though he d seen in the school was happily anticipating their halloween feast the great hall looked magnificent not only were his shoes but his cheerful mood didn t answer all day long the dwarfs caught up with them at the diary then to lucius malfoy then punching himself in the ribs and nodded in percy s in shock george told harry quietly wonder what potter s life better sent home in pieces ah if harry potter and the sorting hat on a bed of straw he saw dobby s face was contorted with fury what s bad said harry starting to feel jealous of ron when he thought for a second and then as he drew level with this door he reached the changing rooms colin called after him in the riddle opened his eyes wide as headlights dobby heard tell he was completely thrown by such an unusual show of interest oh very well he said i shall take a bit o help harry noticed hagrid s problem said george from the front door how thick can you get into the chamber itself professor flitwick knows more about entrancing enchantments than any wizard i ve been looking dreadful for days i ve been and what s inside it let s go said ron but he was equally certain that hagrid would never have meant to kill anybody harry half wished he had asked for a new one professor mcgonagall appeared a second later the bird leave the bird the size of tennis balls harry knew perfectly well they d have ter do would be ter follow the spiders that d lead em right that s good and dudley i \n"
     ]
    }
   ],
   "source": [
    "print(generate(markov_model, start=\"professor dumbledore\", limit=500))"
   ]
  },
  {
   "cell_type": "code",
   "execution_count": null,
   "metadata": {},
   "outputs": [],
   "source": []
  }
 ],
 "metadata": {
  "kaggle": {
   "accelerator": "none",
   "dataSources": [
    {
     "datasetId": 5637,
     "sourceId": 8412,
     "sourceType": "datasetVersion"
    }
   ],
   "dockerImageVersionId": 30035,
   "isGpuEnabled": false,
   "isInternetEnabled": false,
   "language": "python",
   "sourceType": "notebook"
  },
  "kernelspec": {
   "display_name": "Python 3 (ipykernel)",
   "language": "python",
   "name": "python3"
  },
  "language_info": {
   "codemirror_mode": {
    "name": "ipython",
    "version": 3
   },
   "file_extension": ".py",
   "mimetype": "text/x-python",
   "name": "python",
   "nbconvert_exporter": "python",
   "pygments_lexer": "ipython3",
   "version": "3.12.7"
  }
 },
 "nbformat": 4,
 "nbformat_minor": 4
}
