{
 "cells": [
  {
   "cell_type": "markdown",
   "metadata": {},
   "source": [
    "## Imports"
   ]
  },
  {
   "cell_type": "code",
   "execution_count": 1,
   "metadata": {
    "_cell_guid": "b1076dfc-b9ad-4769-8c92-a6c4dae69d19",
    "_uuid": "8f2839f25d086af736a60e9eeb907d3b93b6e0e5"
   },
   "outputs": [],
   "source": [
    "import numpy as np\n",
    "import pandas as pd\n",
    "import os\n",
    "import re\n",
    "import string\n",
    "from nltk.tokenize import word_tokenize\n",
    "import random"
   ]
  },
  {
   "cell_type": "markdown",
   "metadata": {},
   "source": [
    "## Reading The Chamber of Secrets"
   ]
  },
  {
   "cell_type": "code",
   "execution_count": 2,
   "metadata": {},
   "outputs": [
    {
     "name": "stdout",
     "output_type": "stream",
     "text": [
      "number of lines =  3216\n"
     ]
    }
   ],
   "source": [
    "path = \"kaggle/input/harry_potter/02 Harry Potter and the Chamber of Secrets.txt\"\n",
    "\n",
    "def read_story(path):\n",
    "    txt = []\n",
    "\n",
    "    with open(path) as f:\n",
    "        for line in f:\n",
    "            line = line.strip()\n",
    "            if line!='':txt.append(line)\n",
    "    \n",
    "    return txt\n",
    "\n",
    "story = read_story(path)\n",
    "print(\"number of lines = \", len(story))"
   ]
  },
  {
   "cell_type": "markdown",
   "metadata": {},
   "source": [
    "## Cleaning the text"
   ]
  },
  {
   "cell_type": "code",
   "execution_count": 3,
   "metadata": {},
   "outputs": [
    {
     "name": "stdout",
     "output_type": "stream",
     "text": [
      "number of words =  87271\n"
     ]
    }
   ],
   "source": [
    "def clean_txt(txt):\n",
    "    cleaned_txt = []\n",
    "    for line in txt:\n",
    "        line = line.lower()\n",
    "        line = re.sub(r\"[,.\\\"\\'!@#$%^&*(){}?/;`~:<>+=-\\\\]\", \"\", line)\n",
    "        tokens = word_tokenize(line)\n",
    "        words = [word for word in tokens if word.isalpha()]\n",
    "        cleaned_txt += words\n",
    "    return cleaned_txt\n",
    "\n",
    "cleaned_story = clean_txt(story)\n",
    "print(\"number of words = \", len(cleaned_story))"
   ]
  },
  {
   "cell_type": "markdown",
   "metadata": {},
   "source": [
    "## Creating the Markov Model"
   ]
  },
  {
   "cell_type": "code",
   "execution_count": 4,
   "metadata": {},
   "outputs": [],
   "source": [
    "def make_markov_model(cleaned_stories, n_gram=1):\n",
    "    markov_model = {}\n",
    "    for i in range(len(cleaned_stories)-n_gram-1):\n",
    "        curr_state, next_state = \"\", \"\"\n",
    "        for j in range(n_gram):\n",
    "            curr_state += cleaned_stories[i+j] + \" \"\n",
    "            next_state += cleaned_stories[i+j+n_gram] + \" \"\n",
    "        curr_state = curr_state[:-1]\n",
    "        next_state = next_state[:-1]\n",
    "        if curr_state not in markov_model:\n",
    "            markov_model[curr_state] = {}\n",
    "            markov_model[curr_state][next_state] = 1\n",
    "        else:\n",
    "            if next_state in markov_model[curr_state]:\n",
    "                markov_model[curr_state][next_state] += 1\n",
    "            else:\n",
    "                markov_model[curr_state][next_state] = 1\n",
    "    \n",
    "    # calculating transition probabilities\n",
    "    for curr_state, transition in markov_model.items():\n",
    "        total = sum(transition.values())\n",
    "        for state, count in transition.items():\n",
    "            markov_model[curr_state][state] = count/total\n",
    "        \n",
    "    return markov_model"
   ]
  },
  {
   "cell_type": "code",
   "execution_count": 5,
   "metadata": {},
   "outputs": [],
   "source": [
    "markov_model = make_markov_model(cleaned_story)"
   ]
  },
  {
   "cell_type": "code",
   "execution_count": 6,
   "metadata": {},
   "outputs": [
    {
     "name": "stdout",
     "output_type": "stream",
     "text": [
      "number of states =  6724\n"
     ]
    }
   ],
   "source": [
    "print(\"number of states = \", len(markov_model.keys()))"
   ]
  },
  {
   "cell_type": "code",
   "execution_count": 7,
   "metadata": {},
   "outputs": [
    {
     "name": "stdout",
     "output_type": "stream",
     "text": [
      "All possible transitions from 'the game' state: \n",
      "\n",
      "{'of': 0.5816326530612245, 'has': 0.02040816326530612, 'at': 0.01020408163265306, 'in': 0.01020408163265306, 'many': 0.01020408163265306, 'that': 0.01020408163265306, 'and': 0.030612244897959183, 'can': 0.01020408163265306, 'ah': 0.01020408163265306, 'really': 0.01020408163265306, 'when': 0.01020408163265306, 'was': 0.04081632653061224, 'last': 0.02040816326530612, 'under': 0.01020408163265306, 'is': 0.01020408163265306, 'this': 0.01020408163265306, 's': 0.01020408163265306, 'itself': 0.02040816326530612, 'forever': 0.01020408163265306, 'we': 0.01020408163265306, 'not': 0.02040816326530612, 'towering': 0.01020408163265306, 'floor': 0.01020408163265306, 'again': 0.01020408163265306, 'the': 0.01020408163265306, 'rang': 0.01020408163265306, 'wall': 0.02040816326530612, 'harry': 0.01020408163265306, 'seemed': 0.01020408163265306, 'ginny': 0.01020408163265306, 'entrance': 0.01020408163265306, 'nothing': 0.01020408163265306}\n"
     ]
    }
   ],
   "source": [
    "print(\"All possible transitions from 'the game' state: \\n\")\n",
    "print(markov_model['chamber'])"
   ]
  },
  {
   "cell_type": "markdown",
   "metadata": {},
   "source": [
    "## Text Generation"
   ]
  },
  {
   "cell_type": "code",
   "execution_count": 8,
   "metadata": {},
   "outputs": [],
   "source": [
    "def generate(markov_model, limit=100, start='chamber'):\n",
    "    n = 0\n",
    "    curr_state = start\n",
    "    next_state = None\n",
    "    story = \"\"\n",
    "    story += curr_state + \" \"\n",
    "    while n < limit:\n",
    "        next_state = random.choices(list(markov_model[curr_state].keys()),\n",
    "                                    list(markov_model[curr_state].values()))\n",
    "        \n",
    "        curr_state = next_state[0]\n",
    "        story += curr_state + \" \"\n",
    "        n += 1\n",
    "    return story"
   ]
  },
  {
   "cell_type": "code",
   "execution_count": 9,
   "metadata": {},
   "outputs": [
    {
     "name": "stdout",
     "output_type": "stream",
     "text": [
      "1.  harry s do something was a large and was so he looks of ink hang on the mandrake is that covered the feast had all the \n",
      "2.  harry who didn t even care what i m riddle for another branch as they couldn t be miles below as uncomfortable i mean it won \n",
      "3.  harry looked around on all she said malfoy called ready to stop them a floor of slugs malfoy snickering you shall have you could play she \n",
      "4.  harry harry a voice this bludger fred winking portrait can that you can get a firm voice instead they managed to feel it must harry said \n",
      "5.  harry who he wanted to be able to believe it s bedroom were crying her out of the stone robes and beckoned harry you get out \n",
      "6.  harry overheard him to go and put you and you may visit hermione caught the chamber of him there again said lockhart now was unable to \n",
      "7.  harry had followed her face what looked up dressed as they haven t agree sir dobby from the car stopped shouting you look at harry moved \n",
      "8.  harry with muggles so dobby what s just go to the game until neville was on harry it had left harry yelled right cried harry as \n",
      "9.  harry what s a burning day it up but one both their shoes four mudbloods friend from the cracked and he said ron quickly behind them \n",
      "10.  harry said hermione speaking parseltongue resourcefulness determination a yeti and he was attacked me i apologize for him except applause harry ron because he dropped to \n",
      "11.  harry looked at the stone snakes seemed to attack this morning to believe him down knockturn alley to the way to remember what they had been \n",
      "12.  harry opened the holidays because he said now begun to upset you know what sort of every word for regular training sessions however the act no \n",
      "13.  harry hissed loudly on thoughtfully i burped slugs malfoy and ginny said hermione s brain ron out what s okay i say it when most people \n",
      "14.  harry gave it to think of clicking away his rash promise never seen to you a girl he s going to scribble that i just understood \n",
      "15.  harry found ron the only just been punished i thought he crawled back here mr malfoy slowly let him at harry three of june mouth hanging \n",
      "16.  harry you mean i bet i ve ever likely that said professor piped up to that girl stiffly and his face below them anything connected with \n",
      "17.  harry s hand impatiently as large his feet he shot out an elaborately carved their right said george pretended not counting on the mass of sight \n",
      "18.  harry went over the library earning himself from behind him gone to an honor it was no malfoy strode off harry s noticed both of the \n",
      "19.  harry potter said percy deeply into glowing like the decree for the only ones left through the journey home we also a clever the tip an \n",
      "20.  harry nervously in snape teach you said ron s teething she had nowhere near he pulled off to speak harry said ginny had dropped a whole \n"
     ]
    }
   ],
   "source": [
    "for i in range(20):\n",
    "    print(str(i+1)+\". \", generate(markov_model, start=\"harry\", limit=25))"
   ]
  },
  {
   "cell_type": "code",
   "execution_count": 10,
   "metadata": {},
   "outputs": [
    {
     "name": "stdout",
     "output_type": "stream",
     "text": [
      "1.  hermione throwing them books with a minute ron caught in a sound too late that s bathroom and tipped the story but perhaps five points from \n",
      "2.  hermione had been mr vernon and turned into real open from life at seamus finnigan dean bringing him or the school prefect head riddle at all \n",
      "3.  hermione squeaked harry was far the stone when professor mcgonagall was this is called tom harry edging further spellwork on the spot where flames erupted dumbledore \n",
      "4.  hermione were getting into a specially you do anything about cruelty to his hands over her finger annoyingly close one of fun as ron was being \n",
      "5.  hermione wouldn t intending to expel you think that she wasn t said that ravenclaw she leered at the rain and pointing at all right said \n",
      "6.  hermione ushered dobby is it turned away from hermione had left one afternoon and ron held his writing ron rubbed hard not be teased something very \n",
      "7.  hermione harry s the letter from the black head of the giant would be the books were at the class canceled others we dregs of the \n",
      "8.  hermione supported ron peered at the friends letters and said dudley and thrusting it d be angry before she s your schoolbooks said hermione in green \n",
      "9.  hermione s been opened the school of foreboding increased he was told the school there is a scared look back into the bird said fred george \n",
      "10.  hermione took a fire i just been so that had swept the side he d heard it they call he said professor dumbledore smiling if she \n",
      "11.  hermione as a confession out his wand backfired ron whispered she said hermione briskly her hair inside professor flitwick s shop yeh i lick your beak \n",
      "12.  hermione meant though said ron to the car stopped after a student cruel but he d say if we should go wrong person until they have \n",
      "13.  hermione shifting rock ron and crosses in a nearby i was still moving yet here for using magic even look you ve known to a lot \n",
      "14.  hermione walked over at the potion and sped off lockhart teamed neville longbottom on that would stretch of them over and george who was scrambling back \n",
      "15.  hermione to those poor little surprise hermione exasperated harry heard it the door flew open and wandless lockhart quite hysterical even more than later he spread \n",
      "16.  hermione s just sent men to be any longer she gave way to miss hermione said dumbledore s a strong icy draft an imaginary camera good \n",
      "17.  hermione put on veronica smethley s arm to ron pouring dead said ron gloomily i suppose either side opposite direction of the heart beating so that \n",
      "18.  hermione put the librarian was damp and showing no ter wait to the ghost harry told the chamber of the m going to wonder when he \n",
      "19.  hermione maybe we d seen those cleansweep fives i make out if harry ran out of salazar slytherin s go then he began to the front \n",
      "20.  hermione who felt a marathon fred he kept pointing they had appeared holding a scared what other reason ginny s going to mr weasley came hurrying \n"
     ]
    }
   ],
   "source": [
    "for i in range(20):\n",
    "    print(str(i+1)+\". \", generate(markov_model, start=\"hermione\", limit=25))"
   ]
  },
  {
   "cell_type": "code",
   "execution_count": 11,
   "metadata": {},
   "outputs": [
    {
     "name": "stdout",
     "output_type": "stream",
     "text": [
      "1.  ron nervously as pure venom to ron raising potion dobby only the disembodied voice from the dream this is dying to hogwarts ron in the invisibility \n",
      "2.  ron he had been back into an invisible hand professor sprout escorted the rest of secrets unleash the crowd he coughed squelchily into our land there \n",
      "3.  ron hoisted them really excellent beamed at the tray she was standing in the corridors shouting make anyway said harry told them a barrel of being \n",
      "4.  ron fred turned abruptly and a pleasure at ron and a tiny junk shop where is the wall enemies of eggs and goyle obviously thought harry \n",
      "5.  ron the door he said slowly he let that s scowl even the air it was small said ron i don t think the elf hung \n",
      "6.  ron as a matter how to the slime malfoy i d be disappointed you want to harry unlocked his head boy who nodded bravely and went \n",
      "7.  ron and then he said harry as though an elegant hand are you d placed them jump an award five hundredth deathday party he was a \n",
      "8.  ron and be brilliant joke can help them and stretching out of most anxious look at lucius malfoy stopped quickly filch before hogwarts a human fingernails \n",
      "9.  ron reassuringly to make out of course i don t we were hidden powers kind underwent so far this time ron and everyone knows his eager \n",
      "10.  ron and harry ron quietly as he said harry went back to be thrown into the revolted look up again if the kitchens right above her \n",
      "11.  ron asked him the basilisk flees only had clearly unfit to get like a tragic sob rose in every half in announcing that the best if \n",
      "12.  ron woke the words came up snapped course gotcha fred asked percy didn t want fame you hear me buff up this must have liked everything \n",
      "13.  ron pointing at him and all they knew the hedge was clear to peer through the passage and failing to talk their bags and climbing through \n",
      "14.  ron weakly i m on his head was standing up the hall carpet harry s middle and gulped it be caving in a little more than \n",
      "15.  ron there excitement and sometimes they were nearly knocked off his hurry for then to look he hadn t seem to several fat legs waving in \n",
      "16.  ron was barely closed the boy but how he is that whatever it wasn t had barely raised the parchment back wall of the stage one \n",
      "17.  ron seizing five of secrets said ushering them and blotts you too but his arm flapped pointlessly hermione enthusiastically i ll expel you will be disappointed \n",
      "18.  ron said tensely i don t gone harry said ron entered the massive specimen that emitted a sword from fawkes was creeping along the crowd parted \n",
      "19.  ron swore it remember millicent s bones back of harry in beginners magic arthur not now harry reached harry said hello said ron more which were \n",
      "20.  ron maybe he felt a window shouldn t you hadn t think you too of the rest of whom lockhart stood in trouble you know how \n"
     ]
    }
   ],
   "source": [
    "for i in range(20):\n",
    "    print(str(i+1)+\". \", generate(markov_model, start=\"ron\", limit=25))"
   ]
  },
  {
   "cell_type": "code",
   "execution_count": 14,
   "metadata": {},
   "outputs": [
    {
     "name": "stdout",
     "output_type": "stream",
     "text": [
      "professor dumbledore had just as the blinding flash out of them was looking at last in his hands afterward ginny s bathroom she said softly is the quiet and the polyjuice potion simmering away madly heard you harry was saying just announced that come on the forest by a snort from hogwarts lee jordan mrs norris but you two slices of sight although remnants of the closet where mrs weasley he didn t you sounded as new password she wouldn t a thick swirling behind harry looked nothing like a foul common room then harry potter with the monster s ever so well there was in the hall were deprived of pots with the front of the smell him now we do you are scum he thought his students filed out of muggles ended and then banged open harry the large ghost approached his new books in his glasses up the eyes jerked his desk lamp rattle on top of his eyebrows professor binns had barely visible and ask for his son while five minutes or his wand too sank back onto the heir beware potter can speak to breakfast at ron exchanged nervous sit down a swan had a gleaming smile but we saw harry that it is gilderoy lockhart flashing imagine he started rubbing his books mum mad hissing as dobby shuffled forward they d come back to be closed voyages with a friend hannah were indeed yes one said harry bread and wait with gold trimming oh potter s into the empty food and empty snape paused hagrid s only pixies shot out of cloud in seconds before fudge harry unbelievable said ron and plunged the air like a tall wizard house and hermione were closed voyages with all righ harry s hint about the edge of harry noticed hagrid on his masters present him gasped ron oh that she ruffled her bag and turned abruptly as they threw the whole kitchen was in his side of speed racing fred and he was slytherin left percy weasley what are most of armor or something about his basket when hermione to the silly little fists were always having to get loose neville stuffed his archenemy draco malfoy s they rose out of secrets chapter ten just been done car the day back when they hid quickly as they walked back to welcome too just asked harry he was annoying potter so we might be anyone help them as his head dobby shouted expelliarmus lockhart s car rumbled off his desk just mounting to crabbe s going to explode but harry shifted all the little ginny to draw in egypt working and pulled harry said harry quietly to said dear yes didn t stand fred eagerly no time wouldn t move his wand was widening he cleared somewhat choked with an uneasy sleep he d better hope we re we re you d ve gone to london convinced that stump harry could be set off as he tapped the glass \n"
     ]
    }
   ],
   "source": [
    "print(generate(markov_model, start=\"professor\", limit=500))"
   ]
  }
 ],
 "metadata": {
  "kaggle": {
   "accelerator": "none",
   "dataSources": [
    {
     "datasetId": 5637,
     "sourceId": 8412,
     "sourceType": "datasetVersion"
    }
   ],
   "dockerImageVersionId": 30035,
   "isGpuEnabled": false,
   "isInternetEnabled": false,
   "language": "python",
   "sourceType": "notebook"
  },
  "kernelspec": {
   "display_name": "Python 3 (ipykernel)",
   "language": "python",
   "name": "python3"
  },
  "language_info": {
   "codemirror_mode": {
    "name": "ipython",
    "version": 3
   },
   "file_extension": ".py",
   "mimetype": "text/x-python",
   "name": "python",
   "nbconvert_exporter": "python",
   "pygments_lexer": "ipython3",
   "version": "3.12.7"
  }
 },
 "nbformat": 4,
 "nbformat_minor": 4
}
